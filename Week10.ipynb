{
 "cells": [
  {
   "attachments": {},
   "cell_type": "markdown",
   "metadata": {},
   "source": [
    "# Veri Çerçevesinde Seçim Yapma\n"
   ]
  },
  {
   "cell_type": "code",
   "execution_count": 7,
   "metadata": {},
   "outputs": [],
   "source": [
    "import pandas as pd\n",
    "import numpy as np"
   ]
  },
  {
   "cell_type": "code",
   "execution_count": null,
   "metadata": {},
   "outputs": [],
   "source": [
    "df = pd.read_csv(\"iris.csv\")\n",
    "\n",
    "df"
   ]
  },
  {
   "cell_type": "code",
   "execution_count": 2,
   "metadata": {},
   "outputs": [
    {
     "data": {
      "text/plain": [
       "0      5.1\n",
       "1      4.9\n",
       "2      4.7\n",
       "3      4.6\n",
       "4      5.0\n",
       "      ... \n",
       "145    6.7\n",
       "146    6.3\n",
       "147    6.5\n",
       "148    6.2\n",
       "149    5.9\n",
       "Name: SepalLengthCm, Length: 150, dtype: float64"
      ]
     },
     "execution_count": 2,
     "metadata": {},
     "output_type": "execute_result"
    }
   ],
   "source": [
    "df[\"SepalLengthCm\"]\n"
   ]
  },
  {
   "cell_type": "code",
   "execution_count": 3,
   "metadata": {},
   "outputs": [
    {
     "data": {
      "text/plain": [
       "pandas.core.series.Series"
      ]
     },
     "execution_count": 3,
     "metadata": {},
     "output_type": "execute_result"
    }
   ],
   "source": [
    "type(df[\"SepalLengthCm\"])\n"
   ]
  },
  {
   "cell_type": "code",
   "execution_count": 4,
   "metadata": {},
   "outputs": [
    {
     "data": {
      "text/html": [
       "<div>\n",
       "<style scoped>\n",
       "    .dataframe tbody tr th:only-of-type {\n",
       "        vertical-align: middle;\n",
       "    }\n",
       "\n",
       "    .dataframe tbody tr th {\n",
       "        vertical-align: top;\n",
       "    }\n",
       "\n",
       "    .dataframe thead th {\n",
       "        text-align: right;\n",
       "    }\n",
       "</style>\n",
       "<table border=\"1\" class=\"dataframe\">\n",
       "  <thead>\n",
       "    <tr style=\"text-align: right;\">\n",
       "      <th></th>\n",
       "      <th>SepalLengthCm</th>\n",
       "    </tr>\n",
       "  </thead>\n",
       "  <tbody>\n",
       "    <tr>\n",
       "      <th>0</th>\n",
       "      <td>5.1</td>\n",
       "    </tr>\n",
       "    <tr>\n",
       "      <th>1</th>\n",
       "      <td>4.9</td>\n",
       "    </tr>\n",
       "    <tr>\n",
       "      <th>2</th>\n",
       "      <td>4.7</td>\n",
       "    </tr>\n",
       "    <tr>\n",
       "      <th>3</th>\n",
       "      <td>4.6</td>\n",
       "    </tr>\n",
       "    <tr>\n",
       "      <th>4</th>\n",
       "      <td>5.0</td>\n",
       "    </tr>\n",
       "    <tr>\n",
       "      <th>...</th>\n",
       "      <td>...</td>\n",
       "    </tr>\n",
       "    <tr>\n",
       "      <th>145</th>\n",
       "      <td>6.7</td>\n",
       "    </tr>\n",
       "    <tr>\n",
       "      <th>146</th>\n",
       "      <td>6.3</td>\n",
       "    </tr>\n",
       "    <tr>\n",
       "      <th>147</th>\n",
       "      <td>6.5</td>\n",
       "    </tr>\n",
       "    <tr>\n",
       "      <th>148</th>\n",
       "      <td>6.2</td>\n",
       "    </tr>\n",
       "    <tr>\n",
       "      <th>149</th>\n",
       "      <td>5.9</td>\n",
       "    </tr>\n",
       "  </tbody>\n",
       "</table>\n",
       "<p>150 rows × 1 columns</p>\n",
       "</div>"
      ],
      "text/plain": [
       "     SepalLengthCm\n",
       "0              5.1\n",
       "1              4.9\n",
       "2              4.7\n",
       "3              4.6\n",
       "4              5.0\n",
       "..             ...\n",
       "145            6.7\n",
       "146            6.3\n",
       "147            6.5\n",
       "148            6.2\n",
       "149            5.9\n",
       "\n",
       "[150 rows x 1 columns]"
      ]
     },
     "execution_count": 4,
     "metadata": {},
     "output_type": "execute_result"
    }
   ],
   "source": [
    "df[[\"SepalLengthCm\"]]\n"
   ]
  },
  {
   "cell_type": "code",
   "execution_count": 5,
   "metadata": {},
   "outputs": [
    {
     "data": {
      "text/plain": [
       "pandas.core.frame.DataFrame"
      ]
     },
     "execution_count": 5,
     "metadata": {},
     "output_type": "execute_result"
    }
   ],
   "source": [
    "type(df[[\"SepalLengthCm\"]])\n"
   ]
  },
  {
   "cell_type": "code",
   "execution_count": 6,
   "metadata": {},
   "outputs": [
    {
     "data": {
      "text/html": [
       "<div>\n",
       "<style scoped>\n",
       "    .dataframe tbody tr th:only-of-type {\n",
       "        vertical-align: middle;\n",
       "    }\n",
       "\n",
       "    .dataframe tbody tr th {\n",
       "        vertical-align: top;\n",
       "    }\n",
       "\n",
       "    .dataframe thead th {\n",
       "        text-align: right;\n",
       "    }\n",
       "</style>\n",
       "<table border=\"1\" class=\"dataframe\">\n",
       "  <thead>\n",
       "    <tr style=\"text-align: right;\">\n",
       "      <th></th>\n",
       "      <th>SepalLengthCm</th>\n",
       "      <th>SepalWidthCm</th>\n",
       "    </tr>\n",
       "  </thead>\n",
       "  <tbody>\n",
       "    <tr>\n",
       "      <th>0</th>\n",
       "      <td>5.1</td>\n",
       "      <td>3.5</td>\n",
       "    </tr>\n",
       "    <tr>\n",
       "      <th>1</th>\n",
       "      <td>4.9</td>\n",
       "      <td>3.0</td>\n",
       "    </tr>\n",
       "    <tr>\n",
       "      <th>2</th>\n",
       "      <td>4.7</td>\n",
       "      <td>3.2</td>\n",
       "    </tr>\n",
       "    <tr>\n",
       "      <th>3</th>\n",
       "      <td>4.6</td>\n",
       "      <td>3.1</td>\n",
       "    </tr>\n",
       "    <tr>\n",
       "      <th>4</th>\n",
       "      <td>5.0</td>\n",
       "      <td>3.6</td>\n",
       "    </tr>\n",
       "    <tr>\n",
       "      <th>...</th>\n",
       "      <td>...</td>\n",
       "      <td>...</td>\n",
       "    </tr>\n",
       "    <tr>\n",
       "      <th>145</th>\n",
       "      <td>6.7</td>\n",
       "      <td>3.0</td>\n",
       "    </tr>\n",
       "    <tr>\n",
       "      <th>146</th>\n",
       "      <td>6.3</td>\n",
       "      <td>2.5</td>\n",
       "    </tr>\n",
       "    <tr>\n",
       "      <th>147</th>\n",
       "      <td>6.5</td>\n",
       "      <td>3.0</td>\n",
       "    </tr>\n",
       "    <tr>\n",
       "      <th>148</th>\n",
       "      <td>6.2</td>\n",
       "      <td>3.4</td>\n",
       "    </tr>\n",
       "    <tr>\n",
       "      <th>149</th>\n",
       "      <td>5.9</td>\n",
       "      <td>3.0</td>\n",
       "    </tr>\n",
       "  </tbody>\n",
       "</table>\n",
       "<p>150 rows × 2 columns</p>\n",
       "</div>"
      ],
      "text/plain": [
       "     SepalLengthCm  SepalWidthCm\n",
       "0              5.1           3.5\n",
       "1              4.9           3.0\n",
       "2              4.7           3.2\n",
       "3              4.6           3.1\n",
       "4              5.0           3.6\n",
       "..             ...           ...\n",
       "145            6.7           3.0\n",
       "146            6.3           2.5\n",
       "147            6.5           3.0\n",
       "148            6.2           3.4\n",
       "149            5.9           3.0\n",
       "\n",
       "[150 rows x 2 columns]"
      ]
     },
     "execution_count": 6,
     "metadata": {},
     "output_type": "execute_result"
    }
   ],
   "source": [
    "df[[\"SepalLengthCm\", \"SepalWidthCm\"]]\n"
   ]
  },
  {
   "cell_type": "code",
   "execution_count": 11,
   "metadata": {},
   "outputs": [
    {
     "data": {
      "text/html": [
       "<div>\n",
       "<style scoped>\n",
       "    .dataframe tbody tr th:only-of-type {\n",
       "        vertical-align: middle;\n",
       "    }\n",
       "\n",
       "    .dataframe tbody tr th {\n",
       "        vertical-align: top;\n",
       "    }\n",
       "\n",
       "    .dataframe thead th {\n",
       "        text-align: right;\n",
       "    }\n",
       "</style>\n",
       "<table border=\"1\" class=\"dataframe\">\n",
       "  <thead>\n",
       "    <tr style=\"text-align: right;\">\n",
       "      <th></th>\n",
       "      <th>acilis</th>\n",
       "      <th>en_dusuk</th>\n",
       "      <th>en_yuksek</th>\n",
       "      <th>kapanis</th>\n",
       "    </tr>\n",
       "  </thead>\n",
       "  <tbody>\n",
       "    <tr>\n",
       "      <th>ABC</th>\n",
       "      <td>10762.0</td>\n",
       "      <td>32.5</td>\n",
       "      <td>12638.0</td>\n",
       "      <td>33.5</td>\n",
       "    </tr>\n",
       "    <tr>\n",
       "      <th>DEF</th>\n",
       "      <td>13689.0</td>\n",
       "      <td>35.2</td>\n",
       "      <td>18414.0</td>\n",
       "      <td>37.4</td>\n",
       "    </tr>\n",
       "    <tr>\n",
       "      <th>KLM</th>\n",
       "      <td>10688.0</td>\n",
       "      <td>12.3</td>\n",
       "      <td>14348.0</td>\n",
       "      <td>13.2</td>\n",
       "    </tr>\n",
       "    <tr>\n",
       "      <th>IJK</th>\n",
       "      <td>15924.0</td>\n",
       "      <td>15.3</td>\n",
       "      <td>15243.0</td>\n",
       "      <td>17.9</td>\n",
       "    </tr>\n",
       "    <tr>\n",
       "      <th>RTF</th>\n",
       "      <td>14841.0</td>\n",
       "      <td>24.7</td>\n",
       "      <td>14966.0</td>\n",
       "      <td>22.1</td>\n",
       "    </tr>\n",
       "    <tr>\n",
       "      <th>VBN</th>\n",
       "      <td>13098.0</td>\n",
       "      <td>19.3</td>\n",
       "      <td>17439.0</td>\n",
       "      <td>15.4</td>\n",
       "    </tr>\n",
       "    <tr>\n",
       "      <th>XYZ</th>\n",
       "      <td>15607.0</td>\n",
       "      <td>18.6</td>\n",
       "      <td>16166.0</td>\n",
       "      <td>13.4</td>\n",
       "    </tr>\n",
       "    <tr>\n",
       "      <th>PLK</th>\n",
       "      <td>10627.0</td>\n",
       "      <td>15.1</td>\n",
       "      <td>13396.0</td>\n",
       "      <td>15.3</td>\n",
       "    </tr>\n",
       "    <tr>\n",
       "      <th>CVB</th>\n",
       "      <td>12565.0</td>\n",
       "      <td>20.3</td>\n",
       "      <td>17469.0</td>\n",
       "      <td>21.4</td>\n",
       "    </tr>\n",
       "    <tr>\n",
       "      <th>ZAQ</th>\n",
       "      <td>18964.0</td>\n",
       "      <td>22.5</td>\n",
       "      <td>15187.0</td>\n",
       "      <td>23.6</td>\n",
       "    </tr>\n",
       "    <tr>\n",
       "      <th>MHK</th>\n",
       "      <td>13203.0</td>\n",
       "      <td>7.2</td>\n",
       "      <td>10629.0</td>\n",
       "      <td>7.2</td>\n",
       "    </tr>\n",
       "    <tr>\n",
       "      <th>SDC</th>\n",
       "      <td>15239.0</td>\n",
       "      <td>8.2</td>\n",
       "      <td>18307.0</td>\n",
       "      <td>9.1</td>\n",
       "    </tr>\n",
       "  </tbody>\n",
       "</table>\n",
       "</div>"
      ],
      "text/plain": [
       "      acilis  en_dusuk  en_yuksek  kapanis\n",
       "ABC  10762.0      32.5    12638.0     33.5\n",
       "DEF  13689.0      35.2    18414.0     37.4\n",
       "KLM  10688.0      12.3    14348.0     13.2\n",
       "IJK  15924.0      15.3    15243.0     17.9\n",
       "RTF  14841.0      24.7    14966.0     22.1\n",
       "VBN  13098.0      19.3    17439.0     15.4\n",
       "XYZ  15607.0      18.6    16166.0     13.4\n",
       "PLK  10627.0      15.1    13396.0     15.3\n",
       "CVB  12565.0      20.3    17469.0     21.4\n",
       "ZAQ  18964.0      22.5    15187.0     23.6\n",
       "MHK  13203.0       7.2    10629.0      7.2\n",
       "SDC  15239.0       8.2    18307.0      9.1"
      ]
     },
     "execution_count": 11,
     "metadata": {},
     "output_type": "execute_result"
    }
   ],
   "source": [
    "sutunlar = [\"acilis\", \"en_dusuk\", \"en_yuksek\", \"kapanis\"]\n",
    "satirlar = [\n",
    "    \"ABC\",\n",
    "    \"DEF\",\n",
    "    \"KLM\",\n",
    "    \"IJK\",\n",
    "    \"RTF\",\n",
    "    \"VBN\",\n",
    "    \"XYZ\",\n",
    "    \"PLK\",\n",
    "    \"CVB\",\n",
    "    \"ZAQ\",\n",
    "    \"MHK\",\n",
    "    \"SDC\",\n",
    "]\n",
    "degerler = np.array(\n",
    "    [\n",
    "        10762,\n",
    "        32.5,\n",
    "        12638,\n",
    "        33.5,\n",
    "        13689,\n",
    "        35.2,\n",
    "        18414,\n",
    "        37.4,\n",
    "        10688,\n",
    "        12.3,\n",
    "        14348,\n",
    "        13.2,\n",
    "        15924,\n",
    "        15.3,\n",
    "        15243,\n",
    "        17.9,\n",
    "        14841,\n",
    "        24.7,\n",
    "        14966,\n",
    "        22.1,\n",
    "        13098,\n",
    "        19.3,\n",
    "        17439,\n",
    "        15.4,\n",
    "        15607,\n",
    "        18.6,\n",
    "        16166,\n",
    "        13.4,\n",
    "        10627,\n",
    "        15.1,\n",
    "        13396,\n",
    "        15.3,\n",
    "        12565,\n",
    "        20.3,\n",
    "        17469,\n",
    "        21.4,\n",
    "        18964,\n",
    "        22.5,\n",
    "        15187,\n",
    "        23.6,\n",
    "        13203,\n",
    "        7.2,\n",
    "        10629,\n",
    "        7.2,\n",
    "        15239,\n",
    "        8.2,\n",
    "        18307,\n",
    "        9.1,\n",
    "    ]\n",
    ")\n",
    "veriler = np.reshape(degerler, (12, 4))\n",
    "hisseler = pd.DataFrame(veriler, index=satirlar, columns=sutunlar)\n",
    "hisseler"
   ]
  },
  {
   "cell_type": "code",
   "execution_count": 12,
   "metadata": {},
   "outputs": [
    {
     "data": {
      "text/plain": [
       "acilis       10688.0\n",
       "en_dusuk        12.3\n",
       "en_yuksek    14348.0\n",
       "kapanis         13.2\n",
       "Name: KLM, dtype: float64"
      ]
     },
     "execution_count": 12,
     "metadata": {},
     "output_type": "execute_result"
    }
   ],
   "source": [
    "hisseler.loc[\"KLM\"]\n"
   ]
  },
  {
   "cell_type": "code",
   "execution_count": 13,
   "metadata": {},
   "outputs": [
    {
     "data": {
      "text/plain": [
       "pandas.core.series.Series"
      ]
     },
     "execution_count": 13,
     "metadata": {},
     "output_type": "execute_result"
    }
   ],
   "source": [
    "type(hisseler.loc[\"KLM\"])\n"
   ]
  },
  {
   "cell_type": "code",
   "execution_count": 14,
   "metadata": {},
   "outputs": [
    {
     "data": {
      "text/html": [
       "<div>\n",
       "<style scoped>\n",
       "    .dataframe tbody tr th:only-of-type {\n",
       "        vertical-align: middle;\n",
       "    }\n",
       "\n",
       "    .dataframe tbody tr th {\n",
       "        vertical-align: top;\n",
       "    }\n",
       "\n",
       "    .dataframe thead th {\n",
       "        text-align: right;\n",
       "    }\n",
       "</style>\n",
       "<table border=\"1\" class=\"dataframe\">\n",
       "  <thead>\n",
       "    <tr style=\"text-align: right;\">\n",
       "      <th></th>\n",
       "      <th>acilis</th>\n",
       "      <th>en_dusuk</th>\n",
       "      <th>en_yuksek</th>\n",
       "      <th>kapanis</th>\n",
       "    </tr>\n",
       "  </thead>\n",
       "  <tbody>\n",
       "    <tr>\n",
       "      <th>KLM</th>\n",
       "      <td>10688.0</td>\n",
       "      <td>12.3</td>\n",
       "      <td>14348.0</td>\n",
       "      <td>13.2</td>\n",
       "    </tr>\n",
       "  </tbody>\n",
       "</table>\n",
       "</div>"
      ],
      "text/plain": [
       "      acilis  en_dusuk  en_yuksek  kapanis\n",
       "KLM  10688.0      12.3    14348.0     13.2"
      ]
     },
     "execution_count": 14,
     "metadata": {},
     "output_type": "execute_result"
    }
   ],
   "source": [
    "hisseler.loc[[\"KLM\"]]\n"
   ]
  },
  {
   "cell_type": "code",
   "execution_count": 15,
   "metadata": {},
   "outputs": [
    {
     "data": {
      "text/html": [
       "<div>\n",
       "<style scoped>\n",
       "    .dataframe tbody tr th:only-of-type {\n",
       "        vertical-align: middle;\n",
       "    }\n",
       "\n",
       "    .dataframe tbody tr th {\n",
       "        vertical-align: top;\n",
       "    }\n",
       "\n",
       "    .dataframe thead th {\n",
       "        text-align: right;\n",
       "    }\n",
       "</style>\n",
       "<table border=\"1\" class=\"dataframe\">\n",
       "  <thead>\n",
       "    <tr style=\"text-align: right;\">\n",
       "      <th></th>\n",
       "      <th>acilis</th>\n",
       "      <th>en_dusuk</th>\n",
       "      <th>en_yuksek</th>\n",
       "      <th>kapanis</th>\n",
       "    </tr>\n",
       "  </thead>\n",
       "  <tbody>\n",
       "    <tr>\n",
       "      <th>KLM</th>\n",
       "      <td>10688.0</td>\n",
       "      <td>12.3</td>\n",
       "      <td>14348.0</td>\n",
       "      <td>13.2</td>\n",
       "    </tr>\n",
       "    <tr>\n",
       "      <th>MHK</th>\n",
       "      <td>13203.0</td>\n",
       "      <td>7.2</td>\n",
       "      <td>10629.0</td>\n",
       "      <td>7.2</td>\n",
       "    </tr>\n",
       "  </tbody>\n",
       "</table>\n",
       "</div>"
      ],
      "text/plain": [
       "      acilis  en_dusuk  en_yuksek  kapanis\n",
       "KLM  10688.0      12.3    14348.0     13.2\n",
       "MHK  13203.0       7.2    10629.0      7.2"
      ]
     },
     "execution_count": 15,
     "metadata": {},
     "output_type": "execute_result"
    }
   ],
   "source": [
    "hisseler.loc[[\"KLM\", \"MHK\"]]"
   ]
  },
  {
   "cell_type": "code",
   "execution_count": 16,
   "metadata": {},
   "outputs": [
    {
     "data": {
      "text/plain": [
       "37.4"
      ]
     },
     "execution_count": 16,
     "metadata": {},
     "output_type": "execute_result"
    }
   ],
   "source": [
    "hisseler[\"kapanis\"][\"DEF\"]\n"
   ]
  },
  {
   "cell_type": "code",
   "execution_count": 17,
   "metadata": {},
   "outputs": [
    {
     "data": {
      "text/plain": [
       "37.4"
      ]
     },
     "execution_count": 17,
     "metadata": {},
     "output_type": "execute_result"
    }
   ],
   "source": [
    "hisseler.kapanis[\"DEF\"]\n"
   ]
  },
  {
   "cell_type": "code",
   "execution_count": 18,
   "metadata": {},
   "outputs": [
    {
     "data": {
      "text/html": [
       "<div>\n",
       "<style scoped>\n",
       "    .dataframe tbody tr th:only-of-type {\n",
       "        vertical-align: middle;\n",
       "    }\n",
       "\n",
       "    .dataframe tbody tr th {\n",
       "        vertical-align: top;\n",
       "    }\n",
       "\n",
       "    .dataframe thead th {\n",
       "        text-align: right;\n",
       "    }\n",
       "</style>\n",
       "<table border=\"1\" class=\"dataframe\">\n",
       "  <thead>\n",
       "    <tr style=\"text-align: right;\">\n",
       "      <th></th>\n",
       "      <th>en_dusuk</th>\n",
       "      <th>en_yuksek</th>\n",
       "    </tr>\n",
       "  </thead>\n",
       "  <tbody>\n",
       "    <tr>\n",
       "      <th>XYZ</th>\n",
       "      <td>18.6</td>\n",
       "      <td>16166.0</td>\n",
       "    </tr>\n",
       "    <tr>\n",
       "      <th>VBN</th>\n",
       "      <td>19.3</td>\n",
       "      <td>17439.0</td>\n",
       "    </tr>\n",
       "  </tbody>\n",
       "</table>\n",
       "</div>"
      ],
      "text/plain": [
       "     en_dusuk  en_yuksek\n",
       "XYZ      18.6    16166.0\n",
       "VBN      19.3    17439.0"
      ]
     },
     "execution_count": 18,
     "metadata": {},
     "output_type": "execute_result"
    }
   ],
   "source": [
    "hisseler.loc[[\"XYZ\", \"VBN\"], [\"en_dusuk\", \"en_yuksek\"]]"
   ]
  },
  {
   "cell_type": "code",
   "execution_count": 19,
   "metadata": {},
   "outputs": [
    {
     "data": {
      "text/plain": [
       "37.4"
      ]
     },
     "execution_count": 19,
     "metadata": {},
     "output_type": "execute_result"
    }
   ],
   "source": [
    "hisseler.loc[\"DEF\", \"kapanis\"]"
   ]
  },
  {
   "cell_type": "code",
   "execution_count": 20,
   "metadata": {},
   "outputs": [
    {
     "data": {
      "text/html": [
       "<div>\n",
       "<style scoped>\n",
       "    .dataframe tbody tr th:only-of-type {\n",
       "        vertical-align: middle;\n",
       "    }\n",
       "\n",
       "    .dataframe tbody tr th {\n",
       "        vertical-align: top;\n",
       "    }\n",
       "\n",
       "    .dataframe thead th {\n",
       "        text-align: right;\n",
       "    }\n",
       "</style>\n",
       "<table border=\"1\" class=\"dataframe\">\n",
       "  <thead>\n",
       "    <tr style=\"text-align: right;\">\n",
       "      <th></th>\n",
       "      <th>en_dusuk</th>\n",
       "      <th>en_yuksek</th>\n",
       "    </tr>\n",
       "  </thead>\n",
       "  <tbody>\n",
       "    <tr>\n",
       "      <th>ABC</th>\n",
       "      <td>32.5</td>\n",
       "      <td>12638.0</td>\n",
       "    </tr>\n",
       "    <tr>\n",
       "      <th>DEF</th>\n",
       "      <td>35.2</td>\n",
       "      <td>18414.0</td>\n",
       "    </tr>\n",
       "    <tr>\n",
       "      <th>KLM</th>\n",
       "      <td>12.3</td>\n",
       "      <td>14348.0</td>\n",
       "    </tr>\n",
       "    <tr>\n",
       "      <th>IJK</th>\n",
       "      <td>15.3</td>\n",
       "      <td>15243.0</td>\n",
       "    </tr>\n",
       "    <tr>\n",
       "      <th>RTF</th>\n",
       "      <td>24.7</td>\n",
       "      <td>14966.0</td>\n",
       "    </tr>\n",
       "    <tr>\n",
       "      <th>VBN</th>\n",
       "      <td>19.3</td>\n",
       "      <td>17439.0</td>\n",
       "    </tr>\n",
       "    <tr>\n",
       "      <th>XYZ</th>\n",
       "      <td>18.6</td>\n",
       "      <td>16166.0</td>\n",
       "    </tr>\n",
       "    <tr>\n",
       "      <th>PLK</th>\n",
       "      <td>15.1</td>\n",
       "      <td>13396.0</td>\n",
       "    </tr>\n",
       "    <tr>\n",
       "      <th>CVB</th>\n",
       "      <td>20.3</td>\n",
       "      <td>17469.0</td>\n",
       "    </tr>\n",
       "    <tr>\n",
       "      <th>ZAQ</th>\n",
       "      <td>22.5</td>\n",
       "      <td>15187.0</td>\n",
       "    </tr>\n",
       "    <tr>\n",
       "      <th>MHK</th>\n",
       "      <td>7.2</td>\n",
       "      <td>10629.0</td>\n",
       "    </tr>\n",
       "    <tr>\n",
       "      <th>SDC</th>\n",
       "      <td>8.2</td>\n",
       "      <td>18307.0</td>\n",
       "    </tr>\n",
       "  </tbody>\n",
       "</table>\n",
       "</div>"
      ],
      "text/plain": [
       "     en_dusuk  en_yuksek\n",
       "ABC      32.5    12638.0\n",
       "DEF      35.2    18414.0\n",
       "KLM      12.3    14348.0\n",
       "IJK      15.3    15243.0\n",
       "RTF      24.7    14966.0\n",
       "VBN      19.3    17439.0\n",
       "XYZ      18.6    16166.0\n",
       "PLK      15.1    13396.0\n",
       "CVB      20.3    17469.0\n",
       "ZAQ      22.5    15187.0\n",
       "MHK       7.2    10629.0\n",
       "SDC       8.2    18307.0"
      ]
     },
     "execution_count": 20,
     "metadata": {},
     "output_type": "execute_result"
    }
   ],
   "source": [
    "hisseler[[\"en_dusuk\", \"en_yuksek\"]]"
   ]
  },
  {
   "cell_type": "code",
   "execution_count": 21,
   "metadata": {},
   "outputs": [
    {
     "data": {
      "text/html": [
       "<div>\n",
       "<style scoped>\n",
       "    .dataframe tbody tr th:only-of-type {\n",
       "        vertical-align: middle;\n",
       "    }\n",
       "\n",
       "    .dataframe tbody tr th {\n",
       "        vertical-align: top;\n",
       "    }\n",
       "\n",
       "    .dataframe thead th {\n",
       "        text-align: right;\n",
       "    }\n",
       "</style>\n",
       "<table border=\"1\" class=\"dataframe\">\n",
       "  <thead>\n",
       "    <tr style=\"text-align: right;\">\n",
       "      <th></th>\n",
       "      <th>en_dusuk</th>\n",
       "      <th>en_yuksek</th>\n",
       "    </tr>\n",
       "  </thead>\n",
       "  <tbody>\n",
       "    <tr>\n",
       "      <th>ABC</th>\n",
       "      <td>32.5</td>\n",
       "      <td>12638.0</td>\n",
       "    </tr>\n",
       "    <tr>\n",
       "      <th>DEF</th>\n",
       "      <td>35.2</td>\n",
       "      <td>18414.0</td>\n",
       "    </tr>\n",
       "    <tr>\n",
       "      <th>KLM</th>\n",
       "      <td>12.3</td>\n",
       "      <td>14348.0</td>\n",
       "    </tr>\n",
       "    <tr>\n",
       "      <th>IJK</th>\n",
       "      <td>15.3</td>\n",
       "      <td>15243.0</td>\n",
       "    </tr>\n",
       "    <tr>\n",
       "      <th>RTF</th>\n",
       "      <td>24.7</td>\n",
       "      <td>14966.0</td>\n",
       "    </tr>\n",
       "    <tr>\n",
       "      <th>VBN</th>\n",
       "      <td>19.3</td>\n",
       "      <td>17439.0</td>\n",
       "    </tr>\n",
       "    <tr>\n",
       "      <th>XYZ</th>\n",
       "      <td>18.6</td>\n",
       "      <td>16166.0</td>\n",
       "    </tr>\n",
       "    <tr>\n",
       "      <th>PLK</th>\n",
       "      <td>15.1</td>\n",
       "      <td>13396.0</td>\n",
       "    </tr>\n",
       "    <tr>\n",
       "      <th>CVB</th>\n",
       "      <td>20.3</td>\n",
       "      <td>17469.0</td>\n",
       "    </tr>\n",
       "    <tr>\n",
       "      <th>ZAQ</th>\n",
       "      <td>22.5</td>\n",
       "      <td>15187.0</td>\n",
       "    </tr>\n",
       "    <tr>\n",
       "      <th>MHK</th>\n",
       "      <td>7.2</td>\n",
       "      <td>10629.0</td>\n",
       "    </tr>\n",
       "    <tr>\n",
       "      <th>SDC</th>\n",
       "      <td>8.2</td>\n",
       "      <td>18307.0</td>\n",
       "    </tr>\n",
       "  </tbody>\n",
       "</table>\n",
       "</div>"
      ],
      "text/plain": [
       "     en_dusuk  en_yuksek\n",
       "ABC      32.5    12638.0\n",
       "DEF      35.2    18414.0\n",
       "KLM      12.3    14348.0\n",
       "IJK      15.3    15243.0\n",
       "RTF      24.7    14966.0\n",
       "VBN      19.3    17439.0\n",
       "XYZ      18.6    16166.0\n",
       "PLK      15.1    13396.0\n",
       "CVB      20.3    17469.0\n",
       "ZAQ      22.5    15187.0\n",
       "MHK       7.2    10629.0\n",
       "SDC       8.2    18307.0"
      ]
     },
     "execution_count": 21,
     "metadata": {},
     "output_type": "execute_result"
    }
   ],
   "source": [
    "hisseler.loc[:, [\"en_dusuk\", \"en_yuksek\"]]"
   ]
  },
  {
   "cell_type": "code",
   "execution_count": 22,
   "metadata": {},
   "outputs": [
    {
     "data": {
      "text/plain": [
       "acilis       13689.0\n",
       "en_dusuk        35.2\n",
       "en_yuksek    18414.0\n",
       "kapanis         37.4\n",
       "Name: DEF, dtype: float64"
      ]
     },
     "execution_count": 22,
     "metadata": {},
     "output_type": "execute_result"
    }
   ],
   "source": [
    "hisseler.iloc[1]\n"
   ]
  },
  {
   "cell_type": "code",
   "execution_count": 23,
   "metadata": {},
   "outputs": [
    {
     "data": {
      "text/html": [
       "<div>\n",
       "<style scoped>\n",
       "    .dataframe tbody tr th:only-of-type {\n",
       "        vertical-align: middle;\n",
       "    }\n",
       "\n",
       "    .dataframe tbody tr th {\n",
       "        vertical-align: top;\n",
       "    }\n",
       "\n",
       "    .dataframe thead th {\n",
       "        text-align: right;\n",
       "    }\n",
       "</style>\n",
       "<table border=\"1\" class=\"dataframe\">\n",
       "  <thead>\n",
       "    <tr style=\"text-align: right;\">\n",
       "      <th></th>\n",
       "      <th>acilis</th>\n",
       "      <th>en_dusuk</th>\n",
       "      <th>en_yuksek</th>\n",
       "      <th>kapanis</th>\n",
       "    </tr>\n",
       "  </thead>\n",
       "  <tbody>\n",
       "    <tr>\n",
       "      <th>DEF</th>\n",
       "      <td>13689.0</td>\n",
       "      <td>35.2</td>\n",
       "      <td>18414.0</td>\n",
       "      <td>37.4</td>\n",
       "    </tr>\n",
       "  </tbody>\n",
       "</table>\n",
       "</div>"
      ],
      "text/plain": [
       "      acilis  en_dusuk  en_yuksek  kapanis\n",
       "DEF  13689.0      35.2    18414.0     37.4"
      ]
     },
     "execution_count": 23,
     "metadata": {},
     "output_type": "execute_result"
    }
   ],
   "source": [
    "hisseler.iloc[[1]]\n"
   ]
  },
  {
   "cell_type": "code",
   "execution_count": 27,
   "metadata": {},
   "outputs": [
    {
     "data": {
      "text/plain": [
       "37.4"
      ]
     },
     "execution_count": 27,
     "metadata": {},
     "output_type": "execute_result"
    }
   ],
   "source": [
    "hisseler.iloc[1, 3]"
   ]
  },
  {
   "cell_type": "code",
   "execution_count": 26,
   "metadata": {},
   "outputs": [
    {
     "data": {
      "text/html": [
       "<div>\n",
       "<style scoped>\n",
       "    .dataframe tbody tr th:only-of-type {\n",
       "        vertical-align: middle;\n",
       "    }\n",
       "\n",
       "    .dataframe tbody tr th {\n",
       "        vertical-align: top;\n",
       "    }\n",
       "\n",
       "    .dataframe thead th {\n",
       "        text-align: right;\n",
       "    }\n",
       "</style>\n",
       "<table border=\"1\" class=\"dataframe\">\n",
       "  <thead>\n",
       "    <tr style=\"text-align: right;\">\n",
       "      <th></th>\n",
       "      <th>acilis</th>\n",
       "      <th>en_dusuk</th>\n",
       "      <th>en_yuksek</th>\n",
       "      <th>kapanis</th>\n",
       "    </tr>\n",
       "  </thead>\n",
       "  <tbody>\n",
       "    <tr>\n",
       "      <th>DEF</th>\n",
       "      <td>13689.0</td>\n",
       "      <td>35.2</td>\n",
       "      <td>18414.0</td>\n",
       "      <td>37.4</td>\n",
       "    </tr>\n",
       "    <tr>\n",
       "      <th>IJK</th>\n",
       "      <td>15924.0</td>\n",
       "      <td>15.3</td>\n",
       "      <td>15243.0</td>\n",
       "      <td>17.9</td>\n",
       "    </tr>\n",
       "  </tbody>\n",
       "</table>\n",
       "</div>"
      ],
      "text/plain": [
       "      acilis  en_dusuk  en_yuksek  kapanis\n",
       "DEF  13689.0      35.2    18414.0     37.4\n",
       "IJK  15924.0      15.3    15243.0     17.9"
      ]
     },
     "execution_count": 26,
     "metadata": {},
     "output_type": "execute_result"
    }
   ],
   "source": [
    "hisseler.iloc[[1, 3]]"
   ]
  },
  {
   "cell_type": "code",
   "execution_count": 28,
   "metadata": {},
   "outputs": [
    {
     "ename": "IndexingError",
     "evalue": "Too many indexers",
     "output_type": "error",
     "traceback": [
      "\u001b[0;31m---------------------------------------------------------------------------\u001b[0m",
      "\u001b[0;31mIndexingError\u001b[0m                             Traceback (most recent call last)",
      "Cell \u001b[0;32mIn[28], line 1\u001b[0m\n\u001b[0;32m----> 1\u001b[0m hisseler\u001b[39m.\u001b[39;49miloc[\u001b[39m1\u001b[39;49m,\u001b[39m2\u001b[39;49m,\u001b[39m3\u001b[39;49m]\n",
      "File \u001b[0;32m~/miniforge3/envs/veri-bilimi/lib/python3.8/site-packages/pandas/core/indexing.py:1097\u001b[0m, in \u001b[0;36m_LocationIndexer.__getitem__\u001b[0;34m(self, key)\u001b[0m\n\u001b[1;32m   1095\u001b[0m     \u001b[39mif\u001b[39;00m \u001b[39mself\u001b[39m\u001b[39m.\u001b[39m_is_scalar_access(key):\n\u001b[1;32m   1096\u001b[0m         \u001b[39mreturn\u001b[39;00m \u001b[39mself\u001b[39m\u001b[39m.\u001b[39mobj\u001b[39m.\u001b[39m_get_value(\u001b[39m*\u001b[39mkey, takeable\u001b[39m=\u001b[39m\u001b[39mself\u001b[39m\u001b[39m.\u001b[39m_takeable)\n\u001b[0;32m-> 1097\u001b[0m     \u001b[39mreturn\u001b[39;00m \u001b[39mself\u001b[39;49m\u001b[39m.\u001b[39;49m_getitem_tuple(key)\n\u001b[1;32m   1098\u001b[0m \u001b[39melse\u001b[39;00m:\n\u001b[1;32m   1099\u001b[0m     \u001b[39m# we by definition only have the 0th axis\u001b[39;00m\n\u001b[1;32m   1100\u001b[0m     axis \u001b[39m=\u001b[39m \u001b[39mself\u001b[39m\u001b[39m.\u001b[39maxis \u001b[39mor\u001b[39;00m \u001b[39m0\u001b[39m\n",
      "File \u001b[0;32m~/miniforge3/envs/veri-bilimi/lib/python3.8/site-packages/pandas/core/indexing.py:1594\u001b[0m, in \u001b[0;36m_iLocIndexer._getitem_tuple\u001b[0;34m(self, tup)\u001b[0m\n\u001b[1;32m   1593\u001b[0m \u001b[39mdef\u001b[39;00m \u001b[39m_getitem_tuple\u001b[39m(\u001b[39mself\u001b[39m, tup: \u001b[39mtuple\u001b[39m):\n\u001b[0;32m-> 1594\u001b[0m     tup \u001b[39m=\u001b[39m \u001b[39mself\u001b[39;49m\u001b[39m.\u001b[39;49m_validate_tuple_indexer(tup)\n\u001b[1;32m   1595\u001b[0m     \u001b[39mwith\u001b[39;00m suppress(IndexingError):\n\u001b[1;32m   1596\u001b[0m         \u001b[39mreturn\u001b[39;00m \u001b[39mself\u001b[39m\u001b[39m.\u001b[39m_getitem_lowerdim(tup)\n",
      "File \u001b[0;32m~/miniforge3/envs/veri-bilimi/lib/python3.8/site-packages/pandas/core/indexing.py:900\u001b[0m, in \u001b[0;36m_LocationIndexer._validate_tuple_indexer\u001b[0;34m(self, key)\u001b[0m\n\u001b[1;32m    895\u001b[0m \u001b[39m@final\u001b[39m\n\u001b[1;32m    896\u001b[0m \u001b[39mdef\u001b[39;00m \u001b[39m_validate_tuple_indexer\u001b[39m(\u001b[39mself\u001b[39m, key: \u001b[39mtuple\u001b[39m) \u001b[39m-\u001b[39m\u001b[39m>\u001b[39m \u001b[39mtuple\u001b[39m:\n\u001b[1;32m    897\u001b[0m \u001b[39m    \u001b[39m\u001b[39m\"\"\"\u001b[39;00m\n\u001b[1;32m    898\u001b[0m \u001b[39m    Check the key for valid keys across my indexer.\u001b[39;00m\n\u001b[1;32m    899\u001b[0m \u001b[39m    \"\"\"\u001b[39;00m\n\u001b[0;32m--> 900\u001b[0m     key \u001b[39m=\u001b[39m \u001b[39mself\u001b[39;49m\u001b[39m.\u001b[39;49m_validate_key_length(key)\n\u001b[1;32m    901\u001b[0m     key \u001b[39m=\u001b[39m \u001b[39mself\u001b[39m\u001b[39m.\u001b[39m_expand_ellipsis(key)\n\u001b[1;32m    902\u001b[0m     \u001b[39mfor\u001b[39;00m i, k \u001b[39min\u001b[39;00m \u001b[39menumerate\u001b[39m(key):\n",
      "File \u001b[0;32m~/miniforge3/envs/veri-bilimi/lib/python3.8/site-packages/pandas/core/indexing.py:939\u001b[0m, in \u001b[0;36m_LocationIndexer._validate_key_length\u001b[0;34m(self, key)\u001b[0m\n\u001b[1;32m    937\u001b[0m             \u001b[39mraise\u001b[39;00m IndexingError(_one_ellipsis_message)\n\u001b[1;32m    938\u001b[0m         \u001b[39mreturn\u001b[39;00m \u001b[39mself\u001b[39m\u001b[39m.\u001b[39m_validate_key_length(key)\n\u001b[0;32m--> 939\u001b[0m     \u001b[39mraise\u001b[39;00m IndexingError(\u001b[39m\"\u001b[39m\u001b[39mToo many indexers\u001b[39m\u001b[39m\"\u001b[39m)\n\u001b[1;32m    940\u001b[0m \u001b[39mreturn\u001b[39;00m key\n",
      "\u001b[0;31mIndexingError\u001b[0m: Too many indexers"
     ]
    }
   ],
   "source": [
    "hisseler.iloc[1, 2, 3]"
   ]
  },
  {
   "cell_type": "code",
   "execution_count": 29,
   "metadata": {},
   "outputs": [
    {
     "data": {
      "text/html": [
       "<div>\n",
       "<style scoped>\n",
       "    .dataframe tbody tr th:only-of-type {\n",
       "        vertical-align: middle;\n",
       "    }\n",
       "\n",
       "    .dataframe tbody tr th {\n",
       "        vertical-align: top;\n",
       "    }\n",
       "\n",
       "    .dataframe thead th {\n",
       "        text-align: right;\n",
       "    }\n",
       "</style>\n",
       "<table border=\"1\" class=\"dataframe\">\n",
       "  <thead>\n",
       "    <tr style=\"text-align: right;\">\n",
       "      <th></th>\n",
       "      <th>acilis</th>\n",
       "      <th>en_dusuk</th>\n",
       "      <th>en_yuksek</th>\n",
       "      <th>kapanis</th>\n",
       "    </tr>\n",
       "  </thead>\n",
       "  <tbody>\n",
       "    <tr>\n",
       "      <th>DEF</th>\n",
       "      <td>13689.0</td>\n",
       "      <td>35.2</td>\n",
       "      <td>18414.0</td>\n",
       "      <td>37.4</td>\n",
       "    </tr>\n",
       "    <tr>\n",
       "      <th>KLM</th>\n",
       "      <td>10688.0</td>\n",
       "      <td>12.3</td>\n",
       "      <td>14348.0</td>\n",
       "      <td>13.2</td>\n",
       "    </tr>\n",
       "    <tr>\n",
       "      <th>IJK</th>\n",
       "      <td>15924.0</td>\n",
       "      <td>15.3</td>\n",
       "      <td>15243.0</td>\n",
       "      <td>17.9</td>\n",
       "    </tr>\n",
       "  </tbody>\n",
       "</table>\n",
       "</div>"
      ],
      "text/plain": [
       "      acilis  en_dusuk  en_yuksek  kapanis\n",
       "DEF  13689.0      35.2    18414.0     37.4\n",
       "KLM  10688.0      12.3    14348.0     13.2\n",
       "IJK  15924.0      15.3    15243.0     17.9"
      ]
     },
     "execution_count": 29,
     "metadata": {},
     "output_type": "execute_result"
    }
   ],
   "source": [
    "hisseler.iloc[[1, 2, 3]]"
   ]
  },
  {
   "cell_type": "code",
   "execution_count": 30,
   "metadata": {},
   "outputs": [
    {
     "data": {
      "text/html": [
       "<div>\n",
       "<style scoped>\n",
       "    .dataframe tbody tr th:only-of-type {\n",
       "        vertical-align: middle;\n",
       "    }\n",
       "\n",
       "    .dataframe tbody tr th {\n",
       "        vertical-align: top;\n",
       "    }\n",
       "\n",
       "    .dataframe thead th {\n",
       "        text-align: right;\n",
       "    }\n",
       "</style>\n",
       "<table border=\"1\" class=\"dataframe\">\n",
       "  <thead>\n",
       "    <tr style=\"text-align: right;\">\n",
       "      <th></th>\n",
       "      <th>acilis</th>\n",
       "      <th>kapanis</th>\n",
       "    </tr>\n",
       "  </thead>\n",
       "  <tbody>\n",
       "    <tr>\n",
       "      <th>DEF</th>\n",
       "      <td>13689.0</td>\n",
       "      <td>37.4</td>\n",
       "    </tr>\n",
       "    <tr>\n",
       "      <th>KLM</th>\n",
       "      <td>10688.0</td>\n",
       "      <td>13.2</td>\n",
       "    </tr>\n",
       "    <tr>\n",
       "      <th>IJK</th>\n",
       "      <td>15924.0</td>\n",
       "      <td>17.9</td>\n",
       "    </tr>\n",
       "  </tbody>\n",
       "</table>\n",
       "</div>"
      ],
      "text/plain": [
       "      acilis  kapanis\n",
       "DEF  13689.0     37.4\n",
       "KLM  10688.0     13.2\n",
       "IJK  15924.0     17.9"
      ]
     },
     "execution_count": 30,
     "metadata": {},
     "output_type": "execute_result"
    }
   ],
   "source": [
    "hisseler.iloc[[1, 2, 3], [0, 3]]"
   ]
  },
  {
   "cell_type": "code",
   "execution_count": 31,
   "metadata": {},
   "outputs": [
    {
     "data": {
      "text/plain": [
       "ABC    33.5\n",
       "DEF    37.4\n",
       "KLM    13.2\n",
       "IJK    17.9\n",
       "Name: kapanis, dtype: float64"
      ]
     },
     "execution_count": 31,
     "metadata": {},
     "output_type": "execute_result"
    }
   ],
   "source": [
    "hisseler[\"kapanis\"][0:4]\n"
   ]
  },
  {
   "cell_type": "code",
   "execution_count": 33,
   "metadata": {},
   "outputs": [
    {
     "data": {
      "text/html": [
       "<div>\n",
       "<style scoped>\n",
       "    .dataframe tbody tr th:only-of-type {\n",
       "        vertical-align: middle;\n",
       "    }\n",
       "\n",
       "    .dataframe tbody tr th {\n",
       "        vertical-align: top;\n",
       "    }\n",
       "\n",
       "    .dataframe thead th {\n",
       "        text-align: right;\n",
       "    }\n",
       "</style>\n",
       "<table border=\"1\" class=\"dataframe\">\n",
       "  <thead>\n",
       "    <tr style=\"text-align: right;\">\n",
       "      <th></th>\n",
       "      <th>kapanis</th>\n",
       "    </tr>\n",
       "  </thead>\n",
       "  <tbody>\n",
       "    <tr>\n",
       "      <th>ABC</th>\n",
       "      <td>33.5</td>\n",
       "    </tr>\n",
       "    <tr>\n",
       "      <th>DEF</th>\n",
       "      <td>37.4</td>\n",
       "    </tr>\n",
       "    <tr>\n",
       "      <th>KLM</th>\n",
       "      <td>13.2</td>\n",
       "    </tr>\n",
       "    <tr>\n",
       "      <th>IJK</th>\n",
       "      <td>17.9</td>\n",
       "    </tr>\n",
       "  </tbody>\n",
       "</table>\n",
       "</div>"
      ],
      "text/plain": [
       "     kapanis\n",
       "ABC     33.5\n",
       "DEF     37.4\n",
       "KLM     13.2\n",
       "IJK     17.9"
      ]
     },
     "execution_count": 33,
     "metadata": {},
     "output_type": "execute_result"
    }
   ],
   "source": [
    "hisseler.iloc[[0, 1, 2, 3], [3]]"
   ]
  },
  {
   "cell_type": "code",
   "execution_count": 35,
   "metadata": {},
   "outputs": [
    {
     "data": {
      "text/plain": [
       "ABC    33.5\n",
       "DEF    37.4\n",
       "KLM    13.2\n",
       "IJK    17.9\n",
       "Name: kapanis, dtype: float64"
      ]
     },
     "execution_count": 35,
     "metadata": {},
     "output_type": "execute_result"
    }
   ],
   "source": [
    "hisseler.iloc[0:4, 3]\n"
   ]
  },
  {
   "cell_type": "code",
   "execution_count": 34,
   "metadata": {},
   "outputs": [
    {
     "data": {
      "text/html": [
       "<div>\n",
       "<style scoped>\n",
       "    .dataframe tbody tr th:only-of-type {\n",
       "        vertical-align: middle;\n",
       "    }\n",
       "\n",
       "    .dataframe tbody tr th {\n",
       "        vertical-align: top;\n",
       "    }\n",
       "\n",
       "    .dataframe thead th {\n",
       "        text-align: right;\n",
       "    }\n",
       "</style>\n",
       "<table border=\"1\" class=\"dataframe\">\n",
       "  <thead>\n",
       "    <tr style=\"text-align: right;\">\n",
       "      <th></th>\n",
       "      <th>en_dusuk</th>\n",
       "      <th>en_yuksek</th>\n",
       "      <th>kapanis</th>\n",
       "    </tr>\n",
       "  </thead>\n",
       "  <tbody>\n",
       "    <tr>\n",
       "      <th>ABC</th>\n",
       "      <td>32.5</td>\n",
       "      <td>12638.0</td>\n",
       "      <td>33.5</td>\n",
       "    </tr>\n",
       "    <tr>\n",
       "      <th>DEF</th>\n",
       "      <td>35.2</td>\n",
       "      <td>18414.0</td>\n",
       "      <td>37.4</td>\n",
       "    </tr>\n",
       "    <tr>\n",
       "      <th>KLM</th>\n",
       "      <td>12.3</td>\n",
       "      <td>14348.0</td>\n",
       "      <td>13.2</td>\n",
       "    </tr>\n",
       "    <tr>\n",
       "      <th>IJK</th>\n",
       "      <td>15.3</td>\n",
       "      <td>15243.0</td>\n",
       "      <td>17.9</td>\n",
       "    </tr>\n",
       "    <tr>\n",
       "      <th>RTF</th>\n",
       "      <td>24.7</td>\n",
       "      <td>14966.0</td>\n",
       "      <td>22.1</td>\n",
       "    </tr>\n",
       "  </tbody>\n",
       "</table>\n",
       "</div>"
      ],
      "text/plain": [
       "     en_dusuk  en_yuksek  kapanis\n",
       "ABC      32.5    12638.0     33.5\n",
       "DEF      35.2    18414.0     37.4\n",
       "KLM      12.3    14348.0     13.2\n",
       "IJK      15.3    15243.0     17.9\n",
       "RTF      24.7    14966.0     22.1"
      ]
     },
     "execution_count": 34,
     "metadata": {},
     "output_type": "execute_result"
    }
   ],
   "source": [
    "hisseler.loc[\"ABC\":\"RTF\", \"en_dusuk\":\"kapanis\"]"
   ]
  },
  {
   "cell_type": "code",
   "execution_count": 40,
   "metadata": {},
   "outputs": [
    {
     "data": {
      "text/html": [
       "<div>\n",
       "<style scoped>\n",
       "    .dataframe tbody tr th:only-of-type {\n",
       "        vertical-align: middle;\n",
       "    }\n",
       "\n",
       "    .dataframe tbody tr th {\n",
       "        vertical-align: top;\n",
       "    }\n",
       "\n",
       "    .dataframe thead th {\n",
       "        text-align: right;\n",
       "    }\n",
       "</style>\n",
       "<table border=\"1\" class=\"dataframe\">\n",
       "  <thead>\n",
       "    <tr style=\"text-align: right;\">\n",
       "      <th></th>\n",
       "      <th>acilis</th>\n",
       "      <th>en_dusuk</th>\n",
       "      <th>en_yuksek</th>\n",
       "      <th>kapanis</th>\n",
       "    </tr>\n",
       "  </thead>\n",
       "  <tbody>\n",
       "    <tr>\n",
       "      <th>ABC</th>\n",
       "      <td>10762.0</td>\n",
       "      <td>32.5</td>\n",
       "      <td>12638.0</td>\n",
       "      <td>33.5</td>\n",
       "    </tr>\n",
       "    <tr>\n",
       "      <th>DEF</th>\n",
       "      <td>13689.0</td>\n",
       "      <td>35.2</td>\n",
       "      <td>18414.0</td>\n",
       "      <td>37.4</td>\n",
       "    </tr>\n",
       "    <tr>\n",
       "      <th>KLM</th>\n",
       "      <td>10688.0</td>\n",
       "      <td>12.3</td>\n",
       "      <td>14348.0</td>\n",
       "      <td>13.2</td>\n",
       "    </tr>\n",
       "    <tr>\n",
       "      <th>IJK</th>\n",
       "      <td>15924.0</td>\n",
       "      <td>15.3</td>\n",
       "      <td>15243.0</td>\n",
       "      <td>17.9</td>\n",
       "    </tr>\n",
       "    <tr>\n",
       "      <th>RTF</th>\n",
       "      <td>14841.0</td>\n",
       "      <td>24.7</td>\n",
       "      <td>14966.0</td>\n",
       "      <td>22.1</td>\n",
       "    </tr>\n",
       "  </tbody>\n",
       "</table>\n",
       "</div>"
      ],
      "text/plain": [
       "      acilis  en_dusuk  en_yuksek  kapanis\n",
       "ABC  10762.0      32.5    12638.0     33.5\n",
       "DEF  13689.0      35.2    18414.0     37.4\n",
       "KLM  10688.0      12.3    14348.0     13.2\n",
       "IJK  15924.0      15.3    15243.0     17.9\n",
       "RTF  14841.0      24.7    14966.0     22.1"
      ]
     },
     "execution_count": 40,
     "metadata": {},
     "output_type": "execute_result"
    }
   ],
   "source": [
    "hisseler[0:5]"
   ]
  },
  {
   "cell_type": "code",
   "execution_count": 41,
   "metadata": {},
   "outputs": [
    {
     "name": "stdout",
     "output_type": "stream",
     "text": [
      "acilis\n",
      "en_dusuk\n",
      "en_yuksek\n",
      "kapanis\n"
     ]
    }
   ],
   "source": [
    "for i in hisseler:\n",
    "    print(i)"
   ]
  },
  {
   "cell_type": "code",
   "execution_count": 42,
   "metadata": {},
   "outputs": [
    {
     "name": "stdout",
     "output_type": "stream",
     "text": [
      "ABC\n",
      "acilis       10762.0\n",
      "en_dusuk        32.5\n",
      "en_yuksek    12638.0\n",
      "kapanis         33.5\n",
      "Name: ABC, dtype: float64\n",
      "DEF\n",
      "acilis       13689.0\n",
      "en_dusuk        35.2\n",
      "en_yuksek    18414.0\n",
      "kapanis         37.4\n",
      "Name: DEF, dtype: float64\n",
      "KLM\n",
      "acilis       10688.0\n",
      "en_dusuk        12.3\n",
      "en_yuksek    14348.0\n",
      "kapanis         13.2\n",
      "Name: KLM, dtype: float64\n",
      "IJK\n",
      "acilis       15924.0\n",
      "en_dusuk        15.3\n",
      "en_yuksek    15243.0\n",
      "kapanis         17.9\n",
      "Name: IJK, dtype: float64\n",
      "RTF\n",
      "acilis       14841.0\n",
      "en_dusuk        24.7\n",
      "en_yuksek    14966.0\n",
      "kapanis         22.1\n",
      "Name: RTF, dtype: float64\n",
      "VBN\n",
      "acilis       13098.0\n",
      "en_dusuk        19.3\n",
      "en_yuksek    17439.0\n",
      "kapanis         15.4\n",
      "Name: VBN, dtype: float64\n",
      "XYZ\n",
      "acilis       15607.0\n",
      "en_dusuk        18.6\n",
      "en_yuksek    16166.0\n",
      "kapanis         13.4\n",
      "Name: XYZ, dtype: float64\n",
      "PLK\n",
      "acilis       10627.0\n",
      "en_dusuk        15.1\n",
      "en_yuksek    13396.0\n",
      "kapanis         15.3\n",
      "Name: PLK, dtype: float64\n",
      "CVB\n",
      "acilis       12565.0\n",
      "en_dusuk        20.3\n",
      "en_yuksek    17469.0\n",
      "kapanis         21.4\n",
      "Name: CVB, dtype: float64\n",
      "ZAQ\n",
      "acilis       18964.0\n",
      "en_dusuk        22.5\n",
      "en_yuksek    15187.0\n",
      "kapanis         23.6\n",
      "Name: ZAQ, dtype: float64\n",
      "MHK\n",
      "acilis       13203.0\n",
      "en_dusuk         7.2\n",
      "en_yuksek    10629.0\n",
      "kapanis          7.2\n",
      "Name: MHK, dtype: float64\n",
      "SDC\n",
      "acilis       15239.0\n",
      "en_dusuk         8.2\n",
      "en_yuksek    18307.0\n",
      "kapanis          9.1\n",
      "Name: SDC, dtype: float64\n"
     ]
    }
   ],
   "source": [
    "for hisse, satir in hisseler.iterrows():\n",
    "    print(hisse)\n",
    "    print(satir)"
   ]
  },
  {
   "cell_type": "code",
   "execution_count": 43,
   "metadata": {},
   "outputs": [
    {
     "name": "stdout",
     "output_type": "stream",
     "text": [
      "ABC : 33.5\n",
      "DEF : 37.4\n",
      "KLM : 13.2\n",
      "IJK : 17.9\n",
      "RTF : 22.1\n",
      "VBN : 15.4\n",
      "XYZ : 13.4\n",
      "PLK : 15.3\n",
      "CVB : 21.4\n",
      "ZAQ : 23.6\n",
      "MHK : 7.2\n",
      "SDC : 9.1\n"
     ]
    }
   ],
   "source": [
    "for hisse, satir in hisseler.iterrows():\n",
    "    print(hisse+\" : \"+str(satir[\"kapanis\"]))"
   ]
  },
  {
   "cell_type": "code",
   "execution_count": 44,
   "metadata": {},
   "outputs": [
    {
     "data": {
      "text/html": [
       "<div>\n",
       "<style scoped>\n",
       "    .dataframe tbody tr th:only-of-type {\n",
       "        vertical-align: middle;\n",
       "    }\n",
       "\n",
       "    .dataframe tbody tr th {\n",
       "        vertical-align: top;\n",
       "    }\n",
       "\n",
       "    .dataframe thead th {\n",
       "        text-align: right;\n",
       "    }\n",
       "</style>\n",
       "<table border=\"1\" class=\"dataframe\">\n",
       "  <thead>\n",
       "    <tr style=\"text-align: right;\">\n",
       "      <th></th>\n",
       "      <th>acilis</th>\n",
       "      <th>en_dusuk</th>\n",
       "      <th>en_yuksek</th>\n",
       "      <th>kapanis</th>\n",
       "      <th>gunluk_fark</th>\n",
       "    </tr>\n",
       "  </thead>\n",
       "  <tbody>\n",
       "    <tr>\n",
       "      <th>ABC</th>\n",
       "      <td>10762.0</td>\n",
       "      <td>32.5</td>\n",
       "      <td>12638.0</td>\n",
       "      <td>33.5</td>\n",
       "      <td>-10728.5</td>\n",
       "    </tr>\n",
       "    <tr>\n",
       "      <th>DEF</th>\n",
       "      <td>13689.0</td>\n",
       "      <td>35.2</td>\n",
       "      <td>18414.0</td>\n",
       "      <td>37.4</td>\n",
       "      <td>-13651.6</td>\n",
       "    </tr>\n",
       "    <tr>\n",
       "      <th>KLM</th>\n",
       "      <td>10688.0</td>\n",
       "      <td>12.3</td>\n",
       "      <td>14348.0</td>\n",
       "      <td>13.2</td>\n",
       "      <td>-10674.8</td>\n",
       "    </tr>\n",
       "    <tr>\n",
       "      <th>IJK</th>\n",
       "      <td>15924.0</td>\n",
       "      <td>15.3</td>\n",
       "      <td>15243.0</td>\n",
       "      <td>17.9</td>\n",
       "      <td>-15906.1</td>\n",
       "    </tr>\n",
       "    <tr>\n",
       "      <th>RTF</th>\n",
       "      <td>14841.0</td>\n",
       "      <td>24.7</td>\n",
       "      <td>14966.0</td>\n",
       "      <td>22.1</td>\n",
       "      <td>-14818.9</td>\n",
       "    </tr>\n",
       "    <tr>\n",
       "      <th>VBN</th>\n",
       "      <td>13098.0</td>\n",
       "      <td>19.3</td>\n",
       "      <td>17439.0</td>\n",
       "      <td>15.4</td>\n",
       "      <td>-13082.6</td>\n",
       "    </tr>\n",
       "    <tr>\n",
       "      <th>XYZ</th>\n",
       "      <td>15607.0</td>\n",
       "      <td>18.6</td>\n",
       "      <td>16166.0</td>\n",
       "      <td>13.4</td>\n",
       "      <td>-15593.6</td>\n",
       "    </tr>\n",
       "    <tr>\n",
       "      <th>PLK</th>\n",
       "      <td>10627.0</td>\n",
       "      <td>15.1</td>\n",
       "      <td>13396.0</td>\n",
       "      <td>15.3</td>\n",
       "      <td>-10611.7</td>\n",
       "    </tr>\n",
       "    <tr>\n",
       "      <th>CVB</th>\n",
       "      <td>12565.0</td>\n",
       "      <td>20.3</td>\n",
       "      <td>17469.0</td>\n",
       "      <td>21.4</td>\n",
       "      <td>-12543.6</td>\n",
       "    </tr>\n",
       "    <tr>\n",
       "      <th>ZAQ</th>\n",
       "      <td>18964.0</td>\n",
       "      <td>22.5</td>\n",
       "      <td>15187.0</td>\n",
       "      <td>23.6</td>\n",
       "      <td>-18940.4</td>\n",
       "    </tr>\n",
       "    <tr>\n",
       "      <th>MHK</th>\n",
       "      <td>13203.0</td>\n",
       "      <td>7.2</td>\n",
       "      <td>10629.0</td>\n",
       "      <td>7.2</td>\n",
       "      <td>-13195.8</td>\n",
       "    </tr>\n",
       "    <tr>\n",
       "      <th>SDC</th>\n",
       "      <td>15239.0</td>\n",
       "      <td>8.2</td>\n",
       "      <td>18307.0</td>\n",
       "      <td>9.1</td>\n",
       "      <td>-15229.9</td>\n",
       "    </tr>\n",
       "  </tbody>\n",
       "</table>\n",
       "</div>"
      ],
      "text/plain": [
       "      acilis  en_dusuk  en_yuksek  kapanis  gunluk_fark\n",
       "ABC  10762.0      32.5    12638.0     33.5     -10728.5\n",
       "DEF  13689.0      35.2    18414.0     37.4     -13651.6\n",
       "KLM  10688.0      12.3    14348.0     13.2     -10674.8\n",
       "IJK  15924.0      15.3    15243.0     17.9     -15906.1\n",
       "RTF  14841.0      24.7    14966.0     22.1     -14818.9\n",
       "VBN  13098.0      19.3    17439.0     15.4     -13082.6\n",
       "XYZ  15607.0      18.6    16166.0     13.4     -15593.6\n",
       "PLK  10627.0      15.1    13396.0     15.3     -10611.7\n",
       "CVB  12565.0      20.3    17469.0     21.4     -12543.6\n",
       "ZAQ  18964.0      22.5    15187.0     23.6     -18940.4\n",
       "MHK  13203.0       7.2    10629.0      7.2     -13195.8\n",
       "SDC  15239.0       8.2    18307.0      9.1     -15229.9"
      ]
     },
     "execution_count": 44,
     "metadata": {},
     "output_type": "execute_result"
    }
   ],
   "source": [
    "for hisse, satir in hisseler.iterrows():\n",
    "    hisseler.loc[hisse,\"gunluk_fark\"] = satir[\"kapanis\"] - satir[\"acilis\"]\n",
    "\n",
    "hisseler"
   ]
  },
  {
   "cell_type": "code",
   "execution_count": 45,
   "metadata": {},
   "outputs": [
    {
     "data": {
      "text/html": [
       "<div>\n",
       "<style scoped>\n",
       "    .dataframe tbody tr th:only-of-type {\n",
       "        vertical-align: middle;\n",
       "    }\n",
       "\n",
       "    .dataframe tbody tr th {\n",
       "        vertical-align: top;\n",
       "    }\n",
       "\n",
       "    .dataframe thead th {\n",
       "        text-align: right;\n",
       "    }\n",
       "</style>\n",
       "<table border=\"1\" class=\"dataframe\">\n",
       "  <thead>\n",
       "    <tr style=\"text-align: right;\">\n",
       "      <th></th>\n",
       "      <th>acilis</th>\n",
       "      <th>en_dusuk</th>\n",
       "      <th>en_yuksek</th>\n",
       "      <th>kapanis</th>\n",
       "      <th>gunluk_fark</th>\n",
       "      <th>gunluk_fark2</th>\n",
       "    </tr>\n",
       "  </thead>\n",
       "  <tbody>\n",
       "    <tr>\n",
       "      <th>ABC</th>\n",
       "      <td>10762.0</td>\n",
       "      <td>32.5</td>\n",
       "      <td>12638.0</td>\n",
       "      <td>33.5</td>\n",
       "      <td>-10728.5</td>\n",
       "      <td>-10728.5</td>\n",
       "    </tr>\n",
       "    <tr>\n",
       "      <th>DEF</th>\n",
       "      <td>13689.0</td>\n",
       "      <td>35.2</td>\n",
       "      <td>18414.0</td>\n",
       "      <td>37.4</td>\n",
       "      <td>-13651.6</td>\n",
       "      <td>-13651.6</td>\n",
       "    </tr>\n",
       "    <tr>\n",
       "      <th>KLM</th>\n",
       "      <td>10688.0</td>\n",
       "      <td>12.3</td>\n",
       "      <td>14348.0</td>\n",
       "      <td>13.2</td>\n",
       "      <td>-10674.8</td>\n",
       "      <td>-10674.8</td>\n",
       "    </tr>\n",
       "    <tr>\n",
       "      <th>IJK</th>\n",
       "      <td>15924.0</td>\n",
       "      <td>15.3</td>\n",
       "      <td>15243.0</td>\n",
       "      <td>17.9</td>\n",
       "      <td>-15906.1</td>\n",
       "      <td>-15906.1</td>\n",
       "    </tr>\n",
       "    <tr>\n",
       "      <th>RTF</th>\n",
       "      <td>14841.0</td>\n",
       "      <td>24.7</td>\n",
       "      <td>14966.0</td>\n",
       "      <td>22.1</td>\n",
       "      <td>-14818.9</td>\n",
       "      <td>-14818.9</td>\n",
       "    </tr>\n",
       "    <tr>\n",
       "      <th>VBN</th>\n",
       "      <td>13098.0</td>\n",
       "      <td>19.3</td>\n",
       "      <td>17439.0</td>\n",
       "      <td>15.4</td>\n",
       "      <td>-13082.6</td>\n",
       "      <td>-13082.6</td>\n",
       "    </tr>\n",
       "    <tr>\n",
       "      <th>XYZ</th>\n",
       "      <td>15607.0</td>\n",
       "      <td>18.6</td>\n",
       "      <td>16166.0</td>\n",
       "      <td>13.4</td>\n",
       "      <td>-15593.6</td>\n",
       "      <td>-15593.6</td>\n",
       "    </tr>\n",
       "    <tr>\n",
       "      <th>PLK</th>\n",
       "      <td>10627.0</td>\n",
       "      <td>15.1</td>\n",
       "      <td>13396.0</td>\n",
       "      <td>15.3</td>\n",
       "      <td>-10611.7</td>\n",
       "      <td>-10611.7</td>\n",
       "    </tr>\n",
       "    <tr>\n",
       "      <th>CVB</th>\n",
       "      <td>12565.0</td>\n",
       "      <td>20.3</td>\n",
       "      <td>17469.0</td>\n",
       "      <td>21.4</td>\n",
       "      <td>-12543.6</td>\n",
       "      <td>-12543.6</td>\n",
       "    </tr>\n",
       "    <tr>\n",
       "      <th>ZAQ</th>\n",
       "      <td>18964.0</td>\n",
       "      <td>22.5</td>\n",
       "      <td>15187.0</td>\n",
       "      <td>23.6</td>\n",
       "      <td>-18940.4</td>\n",
       "      <td>-18940.4</td>\n",
       "    </tr>\n",
       "    <tr>\n",
       "      <th>MHK</th>\n",
       "      <td>13203.0</td>\n",
       "      <td>7.2</td>\n",
       "      <td>10629.0</td>\n",
       "      <td>7.2</td>\n",
       "      <td>-13195.8</td>\n",
       "      <td>-13195.8</td>\n",
       "    </tr>\n",
       "    <tr>\n",
       "      <th>SDC</th>\n",
       "      <td>15239.0</td>\n",
       "      <td>8.2</td>\n",
       "      <td>18307.0</td>\n",
       "      <td>9.1</td>\n",
       "      <td>-15229.9</td>\n",
       "      <td>-15229.9</td>\n",
       "    </tr>\n",
       "  </tbody>\n",
       "</table>\n",
       "</div>"
      ],
      "text/plain": [
       "      acilis  en_dusuk  en_yuksek  kapanis  gunluk_fark  gunluk_fark2\n",
       "ABC  10762.0      32.5    12638.0     33.5     -10728.5      -10728.5\n",
       "DEF  13689.0      35.2    18414.0     37.4     -13651.6      -13651.6\n",
       "KLM  10688.0      12.3    14348.0     13.2     -10674.8      -10674.8\n",
       "IJK  15924.0      15.3    15243.0     17.9     -15906.1      -15906.1\n",
       "RTF  14841.0      24.7    14966.0     22.1     -14818.9      -14818.9\n",
       "VBN  13098.0      19.3    17439.0     15.4     -13082.6      -13082.6\n",
       "XYZ  15607.0      18.6    16166.0     13.4     -15593.6      -15593.6\n",
       "PLK  10627.0      15.1    13396.0     15.3     -10611.7      -10611.7\n",
       "CVB  12565.0      20.3    17469.0     21.4     -12543.6      -12543.6\n",
       "ZAQ  18964.0      22.5    15187.0     23.6     -18940.4      -18940.4\n",
       "MHK  13203.0       7.2    10629.0      7.2     -13195.8      -13195.8\n",
       "SDC  15239.0       8.2    18307.0      9.1     -15229.9      -15229.9"
      ]
     },
     "execution_count": 45,
     "metadata": {},
     "output_type": "execute_result"
    }
   ],
   "source": [
    "hisseler[\"gunluk_fark2\"] = hisseler[\"kapanis\"] - hisseler[\"acilis\"]\n",
    "hisseler"
   ]
  }
 ],
 "metadata": {
  "kernelspec": {
   "display_name": "veri-bilimi",
   "language": "python",
   "name": "python3"
  },
  "language_info": {
   "codemirror_mode": {
    "name": "ipython",
    "version": 3
   },
   "file_extension": ".py",
   "mimetype": "text/x-python",
   "name": "python",
   "nbconvert_exporter": "python",
   "pygments_lexer": "ipython3",
   "version": "3.8.16"
  },
  "orig_nbformat": 4
 },
 "nbformat": 4,
 "nbformat_minor": 2
}
