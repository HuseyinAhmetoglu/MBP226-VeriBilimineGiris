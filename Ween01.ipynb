{
 "cells": [
  {
   "cell_type": "code",
   "execution_count": null,
   "metadata": {},
   "outputs": [],
   "source": []
  }
 ],
 "metadata": {
  "kernelspec": {
   "display_name": "tf-env",
   "language": "python",
   "name": "python3"
  },
  "language_info": {
   "name": "python",
   "version": "3.8.15"
  },
  "orig_nbformat": 4,
  "vscode": {
   "interpreter": {
    "hash": "ef7adec61751f2a2d2e7afe69c50f9a540df4bc0c2c27aa73d685256d20496e9"
   }
  }
 },
 "nbformat": 4,
 "nbformat_minor": 2
}
