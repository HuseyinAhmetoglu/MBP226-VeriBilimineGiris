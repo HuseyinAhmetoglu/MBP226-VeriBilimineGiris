{
 "cells": [
  {
   "cell_type": "code",
   "execution_count": null,
   "metadata": {},
   "outputs": [
    {
     "ename": "",
     "evalue": "",
     "output_type": "error",
     "traceback": [
      "\u001b[1;31mÇekirdek başlatılamadı. \n",
      "\u001b[1;31mJupyter server crashed. Unable to connect. \n",
      "\u001b[1;31mError code from Jupyter: 1\n",
      "\u001b[1;31mTraceback (most recent call last):\n",
      "\u001b[1;31m  File \"/Users/huseyin/miniforge3/lib/python3.9/site-packages/notebook/services/sessions/sessionmanager.py\", line 9, in <module>\n",
      "\u001b[1;31m    \n",
      "\u001b[1;31mimport sqlite3\n",
      "\u001b[1;31m  File \"/Users/huseyin/miniforge3/lib/python3.9/sqlite3/__init__.py\", line 57, in <module>\n",
      "\u001b[1;31m    from sqlite3.dbapi2 import *\n",
      "\u001b[1;31m  File \"/Users/huseyin/miniforge3/lib/python3.9/sqlite3/dbapi2.py\", line 27, in <module>\n",
      "\u001b[1;31m    from _sqlite3 import *\n",
      "\u001b[1;31mImportError: dlopen(/Users/huseyin/miniforge3/lib/python3.9/lib-dynload/_sqlite3.cpython-39-darwin.so, 0x0002): Symbol not found: _sqlite3_enable_load_extension\n",
      "\u001b[1;31m  Referenced from: <0F1688DA-025E-3485-BD49-F587E9ECE515> /Users/huseyin/miniforge3/lib/python3.9/lib-dynload/_sqlite3.cpython-39-darwin.so\n",
      "\u001b[1;31m  Expected in:     <3870AC8E-1780-3CA6-A2A7-8B978A52921A> /usr/lib/libsqlite3.dylib\n",
      "\u001b[1;31m\n",
      "\u001b[1;31mDuring handling of the above exception, another exception occurred:\n",
      "\u001b[1;31m\n",
      "\u001b[1;31mTraceback (most recent call last):\n",
      "\u001b[1;31m  File \"/Users/huseyin/miniforge3/bin/jupyter-notebook\", line 6, in <module>\n",
      "\u001b[1;31m    from notebook.notebookapp import main\n",
      "\u001b[1;31m  File \"/Users/huseyin/miniforge3/lib/python3.9/site-packages/notebook/notebookapp.py\", line 83, in <module>\n",
      "\u001b[1;31m    from .services.sessions.sessionmanager import SessionManager\n",
      "\u001b[1;31m  File \"/Users/huseyin/miniforge3/lib/python3.9/site-packages/notebook/services/sessions/sessionmanager.py\", line 12, in <module>\n",
      "\u001b[1;31m    from pysqlite2 import dbapi2 as sqlite3\n",
      "\u001b[1;31mModuleNotFoundError: No module named 'pysqlite2'. \n",
      "\u001b[1;31mDaha fazla ayrıntı için Jupyter <a href='command:jupyter.viewOutput'>günlüğüne</a> bakın."
     ]
    }
   ],
   "source": [
    "10+10"
   ]
  }
 ],
 "metadata": {
  "kernelspec": {
   "display_name": "tf-env",
   "language": "python",
   "name": "python3"
  },
  "language_info": {
   "name": "python",
   "version": "3.8.15"
  },
  "orig_nbformat": 4,
  "vscode": {
   "interpreter": {
    "hash": "ef7adec61751f2a2d2e7afe69c50f9a540df4bc0c2c27aa73d685256d20496e9"
   }
  }
 },
 "nbformat": 4,
 "nbformat_minor": 2
}
