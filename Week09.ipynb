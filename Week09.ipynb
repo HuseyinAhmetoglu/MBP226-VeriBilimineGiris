{
 "cells": [
  {
   "attachments": {},
   "cell_type": "markdown",
   "metadata": {},
   "source": [
    "# PANDAS\n"
   ]
  },
  {
   "cell_type": "code",
   "execution_count": 2,
   "metadata": {},
   "outputs": [
    {
     "data": {
      "text/plain": [
       "0     5\n",
       "1     7\n",
       "2     3\n",
       "3    10\n",
       "4     8\n",
       "5     6\n",
       "dtype: int64"
      ]
     },
     "execution_count": 2,
     "metadata": {},
     "output_type": "execute_result"
    }
   ],
   "source": [
    "import pandas as pd\n",
    "\n",
    "pandas_seri = pd.Series([5, 7, 3, 10, 8, 6])\n",
    "pandas_seri\n"
   ]
  },
  {
   "cell_type": "code",
   "execution_count": 3,
   "metadata": {},
   "outputs": [
    {
     "data": {
      "text/plain": [
       "pandas.core.series.Series"
      ]
     },
     "execution_count": 3,
     "metadata": {},
     "output_type": "execute_result"
    }
   ],
   "source": [
    "type(pandas_seri)\n"
   ]
  },
  {
   "cell_type": "code",
   "execution_count": 4,
   "metadata": {},
   "outputs": [
    {
     "data": {
      "text/plain": [
       "a     5\n",
       "b     7\n",
       "c     3\n",
       "d    10\n",
       "e     8\n",
       "f     6\n",
       "dtype: int64"
      ]
     },
     "execution_count": 4,
     "metadata": {},
     "output_type": "execute_result"
    }
   ],
   "source": [
    "pandas_seri = pd.Series([5, 7, 3, 10, 8, 6], index=[\n",
    "                        'a', 'b', 'c', 'd', 'e', 'f'])\n",
    "pandas_seri\n"
   ]
  },
  {
   "cell_type": "code",
   "execution_count": 5,
   "metadata": {},
   "outputs": [
    {
     "data": {
      "text/plain": [
       "c     3\n",
       "d    10\n",
       "e     8\n",
       "dtype: int64"
      ]
     },
     "execution_count": 5,
     "metadata": {},
     "output_type": "execute_result"
    }
   ],
   "source": [
    "pandas_seri['c':'e']\n"
   ]
  },
  {
   "cell_type": "code",
   "execution_count": 6,
   "metadata": {},
   "outputs": [],
   "source": [
    "iris_dict = {\n",
    "    'Sepal_Length': [5.1, 4.9, 4.7, 4.6, 5.0, 6.7, 6.3, 6.5, 6.2, 5.9],\n",
    "    'Sepal_Width': [3.5, 3.0, 3.2, 3.1, 3.6, 3.0, 2.5, 3.0, 3.4, 3.0],\n",
    "    'Petal_Length': [1.4, 1.4, 1.3, 1.5, 1.4, 5.2, 5.0, 5.2, 5.4, 5.1],\n",
    "    'Petal_Width': [0.2, 0.2, 0.2, 0.2, 0.2, 2.3, 1.9, 2.0, 2.3, 1.8],\n",
    "    'Species': ['setosa', 'setosa', 'setosa', 'setosa', 'setosa',\n",
    "                'virginica', 'virginica', 'virginica', 'virginica',\n",
    "                'virginica']\n",
    "}\n"
   ]
  },
  {
   "cell_type": "code",
   "execution_count": 8,
   "metadata": {},
   "outputs": [
    {
     "name": "stdout",
     "output_type": "stream",
     "text": [
      "   Sepal_Length  Sepal_Width  Petal_Length  Petal_Width    Species\n",
      "0           5.1          3.5           1.4          0.2     setosa\n",
      "1           4.9          3.0           1.4          0.2     setosa\n",
      "2           4.7          3.2           1.3          0.2     setosa\n",
      "3           4.6          3.1           1.5          0.2     setosa\n",
      "4           5.0          3.6           1.4          0.2     setosa\n",
      "5           6.7          3.0           5.2          2.3  virginica\n",
      "6           6.3          2.5           5.0          1.9  virginica\n",
      "7           6.5          3.0           5.2          2.0  virginica\n",
      "8           6.2          3.4           5.4          2.3  virginica\n",
      "9           5.9          3.0           5.1          1.8  virginica\n"
     ]
    }
   ],
   "source": [
    "iris = pd.DataFrame(iris_dict)\n",
    "print(iris)\n"
   ]
  },
  {
   "cell_type": "code",
   "execution_count": 13,
   "metadata": {},
   "outputs": [
    {
     "name": "stdout",
     "output_type": "stream",
     "text": [
      "[('Sepal_Length', [5.1, 4.9, 4.7, 4.6, 5.0, 6.7, 6.3, 6.5, 6.2, 5.9]), ('Sepal_Width', [3.5, 3.0, 3.2, 3.1, 3.6, 3.0, 2.5, 3.0, 3.4, 3.0]), ('Petal_Length', [1.4, 1.4, 1.3, 1.5, 1.4, 5.2, 5.0, 5.2, 5.4, 5.1]), ('Petal_ Width', [0.2, 0.2, 0.2, 0.2, 0.2, 2.3, 1.9, 2.0, 2.3, 1.8]), ('Species', ['setosa', 'setosa', 'setosa', 'setosa', 'setosa', 'virginica', 'virginica', 'virginica', 'virginica', 'virginica'])]\n"
     ]
    }
   ],
   "source": [
    "Sepal_Length = [5.1, 4.9, 4.7, 4.6, 5.0, 6.7, 6.3, 6.5, 6.2, 5.9]\n",
    "Sepal_Width = [3.5, 3.0, 3.2, 3.1, 3.6, 3.0, 2.5, 3.0, 3.4, 3.0]\n",
    "Petal_Length = [1.4, 1.4, 1.3, 1.5, 1.4, 5.2, 5.0, 5.2, 5.4, 5.1]\n",
    "Petal_Width = [0.2, 0.2, 0.2, 0.2, 0.2, 2.3, 1.9, 2.0, 2.3, 1.8]\n",
    "Species = ['setosa', 'setosa', 'setosa', 'setosa', 'setosa',\n",
    "           'virginica', 'virginica', 'virginica', 'virginica', 'virginica']\n",
    "sutunlar = [Sepal_Length, Sepal_Width, Petal_Length, Petal_Width, Species]\n",
    "liste_etiketleri = ['Sepal_Length', 'Sepal_Width',\n",
    "                    'Petal_Length', 'Petal_ Width', 'Species']\n",
    "zip_veri = list(zip(liste_etiketleri, sutunlar))\n",
    "print(zip_veri)\n"
   ]
  },
  {
   "cell_type": "code",
   "execution_count": 14,
   "metadata": {},
   "outputs": [
    {
     "data": {
      "text/plain": [
       "{'Sepal_Length': [5.1, 4.9, 4.7, 4.6, 5.0, 6.7, 6.3, 6.5, 6.2, 5.9],\n",
       " 'Sepal_Width': [3.5, 3.0, 3.2, 3.1, 3.6, 3.0, 2.5, 3.0, 3.4, 3.0],\n",
       " 'Petal_Length': [1.4, 1.4, 1.3, 1.5, 1.4, 5.2, 5.0, 5.2, 5.4, 5.1],\n",
       " 'Petal_ Width': [0.2, 0.2, 0.2, 0.2, 0.2, 2.3, 1.9, 2.0, 2.3, 1.8],\n",
       " 'Species': ['setosa',\n",
       "  'setosa',\n",
       "  'setosa',\n",
       "  'setosa',\n",
       "  'setosa',\n",
       "  'virginica',\n",
       "  'virginica',\n",
       "  'virginica',\n",
       "  'virginica',\n",
       "  'virginica']}"
      ]
     },
     "execution_count": 14,
     "metadata": {},
     "output_type": "execute_result"
    }
   ],
   "source": [
    "veri = dict(zip_veri)\n",
    "veri\n"
   ]
  },
  {
   "cell_type": "code",
   "execution_count": 15,
   "metadata": {},
   "outputs": [
    {
     "name": "stdout",
     "output_type": "stream",
     "text": [
      "   Sepal_Length  Sepal_Width  Petal_Length  Petal_ Width    Species\n",
      "0           5.1          3.5           1.4           0.2     setosa\n",
      "1           4.9          3.0           1.4           0.2     setosa\n",
      "2           4.7          3.2           1.3           0.2     setosa\n",
      "3           4.6          3.1           1.5           0.2     setosa\n",
      "4           5.0          3.6           1.4           0.2     setosa\n",
      "5           6.7          3.0           5.2           2.3  virginica\n",
      "6           6.3          2.5           5.0           1.9  virginica\n",
      "7           6.5          3.0           5.2           2.0  virginica\n",
      "8           6.2          3.4           5.4           2.3  virginica\n",
      "9           5.9          3.0           5.1           1.8  virginica\n"
     ]
    }
   ],
   "source": [
    "iris = pd.DataFrame(veri)\n",
    "print(iris)\n"
   ]
  },
  {
   "cell_type": "code",
   "execution_count": 16,
   "metadata": {},
   "outputs": [
    {
     "data": {
      "text/html": [
       "<div>\n",
       "<style scoped>\n",
       "    .dataframe tbody tr th:only-of-type {\n",
       "        vertical-align: middle;\n",
       "    }\n",
       "\n",
       "    .dataframe tbody tr th {\n",
       "        vertical-align: top;\n",
       "    }\n",
       "\n",
       "    .dataframe thead th {\n",
       "        text-align: right;\n",
       "    }\n",
       "</style>\n",
       "<table border=\"1\" class=\"dataframe\">\n",
       "  <thead>\n",
       "    <tr style=\"text-align: right;\">\n",
       "      <th></th>\n",
       "      <th>Sepal_Length</th>\n",
       "      <th>Sepal_Width</th>\n",
       "      <th>Petal_Length</th>\n",
       "      <th>Petal_ Width</th>\n",
       "      <th>Species</th>\n",
       "      <th>Gözlem No</th>\n",
       "    </tr>\n",
       "  </thead>\n",
       "  <tbody>\n",
       "    <tr>\n",
       "      <th>0</th>\n",
       "      <td>5.1</td>\n",
       "      <td>3.5</td>\n",
       "      <td>1.4</td>\n",
       "      <td>0.2</td>\n",
       "      <td>setosa</td>\n",
       "      <td>1</td>\n",
       "    </tr>\n",
       "    <tr>\n",
       "      <th>1</th>\n",
       "      <td>4.9</td>\n",
       "      <td>3.0</td>\n",
       "      <td>1.4</td>\n",
       "      <td>0.2</td>\n",
       "      <td>setosa</td>\n",
       "      <td>1</td>\n",
       "    </tr>\n",
       "    <tr>\n",
       "      <th>2</th>\n",
       "      <td>4.7</td>\n",
       "      <td>3.2</td>\n",
       "      <td>1.3</td>\n",
       "      <td>0.2</td>\n",
       "      <td>setosa</td>\n",
       "      <td>1</td>\n",
       "    </tr>\n",
       "    <tr>\n",
       "      <th>3</th>\n",
       "      <td>4.6</td>\n",
       "      <td>3.1</td>\n",
       "      <td>1.5</td>\n",
       "      <td>0.2</td>\n",
       "      <td>setosa</td>\n",
       "      <td>1</td>\n",
       "    </tr>\n",
       "    <tr>\n",
       "      <th>4</th>\n",
       "      <td>5.0</td>\n",
       "      <td>3.6</td>\n",
       "      <td>1.4</td>\n",
       "      <td>0.2</td>\n",
       "      <td>setosa</td>\n",
       "      <td>1</td>\n",
       "    </tr>\n",
       "    <tr>\n",
       "      <th>5</th>\n",
       "      <td>6.7</td>\n",
       "      <td>3.0</td>\n",
       "      <td>5.2</td>\n",
       "      <td>2.3</td>\n",
       "      <td>virginica</td>\n",
       "      <td>1</td>\n",
       "    </tr>\n",
       "    <tr>\n",
       "      <th>6</th>\n",
       "      <td>6.3</td>\n",
       "      <td>2.5</td>\n",
       "      <td>5.0</td>\n",
       "      <td>1.9</td>\n",
       "      <td>virginica</td>\n",
       "      <td>1</td>\n",
       "    </tr>\n",
       "    <tr>\n",
       "      <th>7</th>\n",
       "      <td>6.5</td>\n",
       "      <td>3.0</td>\n",
       "      <td>5.2</td>\n",
       "      <td>2.0</td>\n",
       "      <td>virginica</td>\n",
       "      <td>1</td>\n",
       "    </tr>\n",
       "    <tr>\n",
       "      <th>8</th>\n",
       "      <td>6.2</td>\n",
       "      <td>3.4</td>\n",
       "      <td>5.4</td>\n",
       "      <td>2.3</td>\n",
       "      <td>virginica</td>\n",
       "      <td>1</td>\n",
       "    </tr>\n",
       "    <tr>\n",
       "      <th>9</th>\n",
       "      <td>5.9</td>\n",
       "      <td>3.0</td>\n",
       "      <td>5.1</td>\n",
       "      <td>1.8</td>\n",
       "      <td>virginica</td>\n",
       "      <td>1</td>\n",
       "    </tr>\n",
       "  </tbody>\n",
       "</table>\n",
       "</div>"
      ],
      "text/plain": [
       "   Sepal_Length  Sepal_Width  Petal_Length  Petal_ Width    Species  Gözlem No\n",
       "0           5.1          3.5           1.4           0.2     setosa          1\n",
       "1           4.9          3.0           1.4           0.2     setosa          1\n",
       "2           4.7          3.2           1.3           0.2     setosa          1\n",
       "3           4.6          3.1           1.5           0.2     setosa          1\n",
       "4           5.0          3.6           1.4           0.2     setosa          1\n",
       "5           6.7          3.0           5.2           2.3  virginica          1\n",
       "6           6.3          2.5           5.0           1.9  virginica          1\n",
       "7           6.5          3.0           5.2           2.0  virginica          1\n",
       "8           6.2          3.4           5.4           2.3  virginica          1\n",
       "9           5.9          3.0           5.1           1.8  virginica          1"
      ]
     },
     "execution_count": 16,
     "metadata": {},
     "output_type": "execute_result"
    }
   ],
   "source": [
    "iris['Gözlem No'] = 1\n",
    "iris\n"
   ]
  },
  {
   "cell_type": "code",
   "execution_count": 17,
   "metadata": {},
   "outputs": [
    {
     "data": {
      "text/html": [
       "<div>\n",
       "<style scoped>\n",
       "    .dataframe tbody tr th:only-of-type {\n",
       "        vertical-align: middle;\n",
       "    }\n",
       "\n",
       "    .dataframe tbody tr th {\n",
       "        vertical-align: top;\n",
       "    }\n",
       "\n",
       "    .dataframe thead th {\n",
       "        text-align: right;\n",
       "    }\n",
       "</style>\n",
       "<table border=\"1\" class=\"dataframe\">\n",
       "  <thead>\n",
       "    <tr style=\"text-align: right;\">\n",
       "      <th></th>\n",
       "      <th>Id</th>\n",
       "      <th>SepalLengthCm</th>\n",
       "      <th>SepalWidthCm</th>\n",
       "      <th>PetalLengthCm</th>\n",
       "      <th>PetalWidthCm</th>\n",
       "      <th>Species</th>\n",
       "    </tr>\n",
       "  </thead>\n",
       "  <tbody>\n",
       "    <tr>\n",
       "      <th>0</th>\n",
       "      <td>1</td>\n",
       "      <td>5.1</td>\n",
       "      <td>3.5</td>\n",
       "      <td>1.4</td>\n",
       "      <td>0.2</td>\n",
       "      <td>Iris-setosa</td>\n",
       "    </tr>\n",
       "    <tr>\n",
       "      <th>1</th>\n",
       "      <td>2</td>\n",
       "      <td>4.9</td>\n",
       "      <td>3.0</td>\n",
       "      <td>1.4</td>\n",
       "      <td>0.2</td>\n",
       "      <td>Iris-setosa</td>\n",
       "    </tr>\n",
       "    <tr>\n",
       "      <th>2</th>\n",
       "      <td>3</td>\n",
       "      <td>4.7</td>\n",
       "      <td>3.2</td>\n",
       "      <td>1.3</td>\n",
       "      <td>0.2</td>\n",
       "      <td>Iris-setosa</td>\n",
       "    </tr>\n",
       "    <tr>\n",
       "      <th>3</th>\n",
       "      <td>4</td>\n",
       "      <td>4.6</td>\n",
       "      <td>3.1</td>\n",
       "      <td>1.5</td>\n",
       "      <td>0.2</td>\n",
       "      <td>Iris-setosa</td>\n",
       "    </tr>\n",
       "    <tr>\n",
       "      <th>4</th>\n",
       "      <td>5</td>\n",
       "      <td>5.0</td>\n",
       "      <td>3.6</td>\n",
       "      <td>1.4</td>\n",
       "      <td>0.2</td>\n",
       "      <td>Iris-setosa</td>\n",
       "    </tr>\n",
       "    <tr>\n",
       "      <th>...</th>\n",
       "      <td>...</td>\n",
       "      <td>...</td>\n",
       "      <td>...</td>\n",
       "      <td>...</td>\n",
       "      <td>...</td>\n",
       "      <td>...</td>\n",
       "    </tr>\n",
       "    <tr>\n",
       "      <th>145</th>\n",
       "      <td>146</td>\n",
       "      <td>6.7</td>\n",
       "      <td>3.0</td>\n",
       "      <td>5.2</td>\n",
       "      <td>2.3</td>\n",
       "      <td>Iris-virginica</td>\n",
       "    </tr>\n",
       "    <tr>\n",
       "      <th>146</th>\n",
       "      <td>147</td>\n",
       "      <td>6.3</td>\n",
       "      <td>2.5</td>\n",
       "      <td>5.0</td>\n",
       "      <td>1.9</td>\n",
       "      <td>Iris-virginica</td>\n",
       "    </tr>\n",
       "    <tr>\n",
       "      <th>147</th>\n",
       "      <td>148</td>\n",
       "      <td>6.5</td>\n",
       "      <td>3.0</td>\n",
       "      <td>5.2</td>\n",
       "      <td>2.0</td>\n",
       "      <td>Iris-virginica</td>\n",
       "    </tr>\n",
       "    <tr>\n",
       "      <th>148</th>\n",
       "      <td>149</td>\n",
       "      <td>6.2</td>\n",
       "      <td>3.4</td>\n",
       "      <td>5.4</td>\n",
       "      <td>2.3</td>\n",
       "      <td>Iris-virginica</td>\n",
       "    </tr>\n",
       "    <tr>\n",
       "      <th>149</th>\n",
       "      <td>150</td>\n",
       "      <td>5.9</td>\n",
       "      <td>3.0</td>\n",
       "      <td>5.1</td>\n",
       "      <td>1.8</td>\n",
       "      <td>Iris-virginica</td>\n",
       "    </tr>\n",
       "  </tbody>\n",
       "</table>\n",
       "<p>150 rows × 6 columns</p>\n",
       "</div>"
      ],
      "text/plain": [
       "      Id  SepalLengthCm  SepalWidthCm  PetalLengthCm  PetalWidthCm   \n",
       "0      1            5.1           3.5            1.4           0.2  \\\n",
       "1      2            4.9           3.0            1.4           0.2   \n",
       "2      3            4.7           3.2            1.3           0.2   \n",
       "3      4            4.6           3.1            1.5           0.2   \n",
       "4      5            5.0           3.6            1.4           0.2   \n",
       "..   ...            ...           ...            ...           ...   \n",
       "145  146            6.7           3.0            5.2           2.3   \n",
       "146  147            6.3           2.5            5.0           1.9   \n",
       "147  148            6.5           3.0            5.2           2.0   \n",
       "148  149            6.2           3.4            5.4           2.3   \n",
       "149  150            5.9           3.0            5.1           1.8   \n",
       "\n",
       "            Species  \n",
       "0       Iris-setosa  \n",
       "1       Iris-setosa  \n",
       "2       Iris-setosa  \n",
       "3       Iris-setosa  \n",
       "4       Iris-setosa  \n",
       "..              ...  \n",
       "145  Iris-virginica  \n",
       "146  Iris-virginica  \n",
       "147  Iris-virginica  \n",
       "148  Iris-virginica  \n",
       "149  Iris-virginica  \n",
       "\n",
       "[150 rows x 6 columns]"
      ]
     },
     "execution_count": 17,
     "metadata": {},
     "output_type": "execute_result"
    }
   ],
   "source": [
    "iris = pd.read_csv(\"iris.csv\")\n",
    "iris\n"
   ]
  },
  {
   "cell_type": "code",
   "execution_count": 18,
   "metadata": {},
   "outputs": [
    {
     "data": {
      "text/plain": [
       "pandas.core.frame.DataFrame"
      ]
     },
     "execution_count": 18,
     "metadata": {},
     "output_type": "execute_result"
    }
   ],
   "source": [
    "type(iris)\n"
   ]
  },
  {
   "cell_type": "code",
   "execution_count": 19,
   "metadata": {},
   "outputs": [
    {
     "data": {
      "text/plain": [
       "Index(['Id', 'SepalLengthCm', 'SepalWidthCm', 'PetalLengthCm', 'PetalWidthCm',\n",
       "       'Species'],\n",
       "      dtype='object')"
      ]
     },
     "execution_count": 19,
     "metadata": {},
     "output_type": "execute_result"
    }
   ],
   "source": [
    "iris.columns\n"
   ]
  },
  {
   "cell_type": "code",
   "execution_count": 21,
   "metadata": {},
   "outputs": [],
   "source": [
    "iris.columns = ['Id', 'Taç Boy', 'Taç En', 'Çanak Boy', 'Çanak En', 'Tür']\n"
   ]
  },
  {
   "cell_type": "code",
   "execution_count": 22,
   "metadata": {},
   "outputs": [
    {
     "data": {
      "text/html": [
       "<div>\n",
       "<style scoped>\n",
       "    .dataframe tbody tr th:only-of-type {\n",
       "        vertical-align: middle;\n",
       "    }\n",
       "\n",
       "    .dataframe tbody tr th {\n",
       "        vertical-align: top;\n",
       "    }\n",
       "\n",
       "    .dataframe thead th {\n",
       "        text-align: right;\n",
       "    }\n",
       "</style>\n",
       "<table border=\"1\" class=\"dataframe\">\n",
       "  <thead>\n",
       "    <tr style=\"text-align: right;\">\n",
       "      <th></th>\n",
       "      <th>Id</th>\n",
       "      <th>Taç Boy</th>\n",
       "      <th>Taç En</th>\n",
       "      <th>Çanak Boy</th>\n",
       "      <th>Çanak En</th>\n",
       "      <th>Tür</th>\n",
       "    </tr>\n",
       "  </thead>\n",
       "  <tbody>\n",
       "    <tr>\n",
       "      <th>0</th>\n",
       "      <td>1</td>\n",
       "      <td>5.1</td>\n",
       "      <td>3.5</td>\n",
       "      <td>1.4</td>\n",
       "      <td>0.2</td>\n",
       "      <td>Iris-setosa</td>\n",
       "    </tr>\n",
       "    <tr>\n",
       "      <th>1</th>\n",
       "      <td>2</td>\n",
       "      <td>4.9</td>\n",
       "      <td>3.0</td>\n",
       "      <td>1.4</td>\n",
       "      <td>0.2</td>\n",
       "      <td>Iris-setosa</td>\n",
       "    </tr>\n",
       "    <tr>\n",
       "      <th>2</th>\n",
       "      <td>3</td>\n",
       "      <td>4.7</td>\n",
       "      <td>3.2</td>\n",
       "      <td>1.3</td>\n",
       "      <td>0.2</td>\n",
       "      <td>Iris-setosa</td>\n",
       "    </tr>\n",
       "    <tr>\n",
       "      <th>3</th>\n",
       "      <td>4</td>\n",
       "      <td>4.6</td>\n",
       "      <td>3.1</td>\n",
       "      <td>1.5</td>\n",
       "      <td>0.2</td>\n",
       "      <td>Iris-setosa</td>\n",
       "    </tr>\n",
       "    <tr>\n",
       "      <th>4</th>\n",
       "      <td>5</td>\n",
       "      <td>5.0</td>\n",
       "      <td>3.6</td>\n",
       "      <td>1.4</td>\n",
       "      <td>0.2</td>\n",
       "      <td>Iris-setosa</td>\n",
       "    </tr>\n",
       "    <tr>\n",
       "      <th>...</th>\n",
       "      <td>...</td>\n",
       "      <td>...</td>\n",
       "      <td>...</td>\n",
       "      <td>...</td>\n",
       "      <td>...</td>\n",
       "      <td>...</td>\n",
       "    </tr>\n",
       "    <tr>\n",
       "      <th>145</th>\n",
       "      <td>146</td>\n",
       "      <td>6.7</td>\n",
       "      <td>3.0</td>\n",
       "      <td>5.2</td>\n",
       "      <td>2.3</td>\n",
       "      <td>Iris-virginica</td>\n",
       "    </tr>\n",
       "    <tr>\n",
       "      <th>146</th>\n",
       "      <td>147</td>\n",
       "      <td>6.3</td>\n",
       "      <td>2.5</td>\n",
       "      <td>5.0</td>\n",
       "      <td>1.9</td>\n",
       "      <td>Iris-virginica</td>\n",
       "    </tr>\n",
       "    <tr>\n",
       "      <th>147</th>\n",
       "      <td>148</td>\n",
       "      <td>6.5</td>\n",
       "      <td>3.0</td>\n",
       "      <td>5.2</td>\n",
       "      <td>2.0</td>\n",
       "      <td>Iris-virginica</td>\n",
       "    </tr>\n",
       "    <tr>\n",
       "      <th>148</th>\n",
       "      <td>149</td>\n",
       "      <td>6.2</td>\n",
       "      <td>3.4</td>\n",
       "      <td>5.4</td>\n",
       "      <td>2.3</td>\n",
       "      <td>Iris-virginica</td>\n",
       "    </tr>\n",
       "    <tr>\n",
       "      <th>149</th>\n",
       "      <td>150</td>\n",
       "      <td>5.9</td>\n",
       "      <td>3.0</td>\n",
       "      <td>5.1</td>\n",
       "      <td>1.8</td>\n",
       "      <td>Iris-virginica</td>\n",
       "    </tr>\n",
       "  </tbody>\n",
       "</table>\n",
       "<p>150 rows × 6 columns</p>\n",
       "</div>"
      ],
      "text/plain": [
       "      Id  Taç Boy  Taç En  Çanak Boy  Çanak En             Tür\n",
       "0      1      5.1     3.5        1.4       0.2     Iris-setosa\n",
       "1      2      4.9     3.0        1.4       0.2     Iris-setosa\n",
       "2      3      4.7     3.2        1.3       0.2     Iris-setosa\n",
       "3      4      4.6     3.1        1.5       0.2     Iris-setosa\n",
       "4      5      5.0     3.6        1.4       0.2     Iris-setosa\n",
       "..   ...      ...     ...        ...       ...             ...\n",
       "145  146      6.7     3.0        5.2       2.3  Iris-virginica\n",
       "146  147      6.3     2.5        5.0       1.9  Iris-virginica\n",
       "147  148      6.5     3.0        5.2       2.0  Iris-virginica\n",
       "148  149      6.2     3.4        5.4       2.3  Iris-virginica\n",
       "149  150      5.9     3.0        5.1       1.8  Iris-virginica\n",
       "\n",
       "[150 rows x 6 columns]"
      ]
     },
     "execution_count": 22,
     "metadata": {},
     "output_type": "execute_result"
    }
   ],
   "source": [
    "iris\n"
   ]
  },
  {
   "cell_type": "code",
   "execution_count": 23,
   "metadata": {},
   "outputs": [
    {
     "data": {
      "text/html": [
       "<div>\n",
       "<style scoped>\n",
       "    .dataframe tbody tr th:only-of-type {\n",
       "        vertical-align: middle;\n",
       "    }\n",
       "\n",
       "    .dataframe tbody tr th {\n",
       "        vertical-align: top;\n",
       "    }\n",
       "\n",
       "    .dataframe thead th {\n",
       "        text-align: right;\n",
       "    }\n",
       "</style>\n",
       "<table border=\"1\" class=\"dataframe\">\n",
       "  <thead>\n",
       "    <tr style=\"text-align: right;\">\n",
       "      <th></th>\n",
       "      <th>Id</th>\n",
       "      <th>Taç Boy</th>\n",
       "      <th>Taç En</th>\n",
       "      <th>Çanak Boy</th>\n",
       "      <th>Çanak En</th>\n",
       "      <th>Tür</th>\n",
       "    </tr>\n",
       "  </thead>\n",
       "  <tbody>\n",
       "    <tr>\n",
       "      <th>0</th>\n",
       "      <td>1</td>\n",
       "      <td>5.1</td>\n",
       "      <td>3.5</td>\n",
       "      <td>1.4</td>\n",
       "      <td>0.2</td>\n",
       "      <td>Iris-setosa</td>\n",
       "    </tr>\n",
       "    <tr>\n",
       "      <th>1</th>\n",
       "      <td>2</td>\n",
       "      <td>4.9</td>\n",
       "      <td>3.0</td>\n",
       "      <td>1.4</td>\n",
       "      <td>0.2</td>\n",
       "      <td>Iris-setosa</td>\n",
       "    </tr>\n",
       "    <tr>\n",
       "      <th>2</th>\n",
       "      <td>3</td>\n",
       "      <td>4.7</td>\n",
       "      <td>3.2</td>\n",
       "      <td>1.3</td>\n",
       "      <td>0.2</td>\n",
       "      <td>Iris-setosa</td>\n",
       "    </tr>\n",
       "    <tr>\n",
       "      <th>3</th>\n",
       "      <td>4</td>\n",
       "      <td>4.6</td>\n",
       "      <td>3.1</td>\n",
       "      <td>1.5</td>\n",
       "      <td>0.2</td>\n",
       "      <td>Iris-setosa</td>\n",
       "    </tr>\n",
       "    <tr>\n",
       "      <th>4</th>\n",
       "      <td>5</td>\n",
       "      <td>5.0</td>\n",
       "      <td>3.6</td>\n",
       "      <td>1.4</td>\n",
       "      <td>0.2</td>\n",
       "      <td>Iris-setosa</td>\n",
       "    </tr>\n",
       "    <tr>\n",
       "      <th>5</th>\n",
       "      <td>6</td>\n",
       "      <td>5.4</td>\n",
       "      <td>3.9</td>\n",
       "      <td>1.7</td>\n",
       "      <td>0.4</td>\n",
       "      <td>Iris-setosa</td>\n",
       "    </tr>\n",
       "    <tr>\n",
       "      <th>6</th>\n",
       "      <td>7</td>\n",
       "      <td>4.6</td>\n",
       "      <td>3.4</td>\n",
       "      <td>1.4</td>\n",
       "      <td>0.3</td>\n",
       "      <td>Iris-setosa</td>\n",
       "    </tr>\n",
       "    <tr>\n",
       "      <th>7</th>\n",
       "      <td>8</td>\n",
       "      <td>5.0</td>\n",
       "      <td>3.4</td>\n",
       "      <td>1.5</td>\n",
       "      <td>0.2</td>\n",
       "      <td>Iris-setosa</td>\n",
       "    </tr>\n",
       "    <tr>\n",
       "      <th>8</th>\n",
       "      <td>9</td>\n",
       "      <td>4.4</td>\n",
       "      <td>2.9</td>\n",
       "      <td>1.4</td>\n",
       "      <td>0.2</td>\n",
       "      <td>Iris-setosa</td>\n",
       "    </tr>\n",
       "    <tr>\n",
       "      <th>9</th>\n",
       "      <td>10</td>\n",
       "      <td>4.9</td>\n",
       "      <td>3.1</td>\n",
       "      <td>1.5</td>\n",
       "      <td>0.1</td>\n",
       "      <td>Iris-setosa</td>\n",
       "    </tr>\n",
       "  </tbody>\n",
       "</table>\n",
       "</div>"
      ],
      "text/plain": [
       "   Id  Taç Boy  Taç En  Çanak Boy  Çanak En          Tür\n",
       "0   1      5.1     3.5        1.4       0.2  Iris-setosa\n",
       "1   2      4.9     3.0        1.4       0.2  Iris-setosa\n",
       "2   3      4.7     3.2        1.3       0.2  Iris-setosa\n",
       "3   4      4.6     3.1        1.5       0.2  Iris-setosa\n",
       "4   5      5.0     3.6        1.4       0.2  Iris-setosa\n",
       "5   6      5.4     3.9        1.7       0.4  Iris-setosa\n",
       "6   7      4.6     3.4        1.4       0.3  Iris-setosa\n",
       "7   8      5.0     3.4        1.5       0.2  Iris-setosa\n",
       "8   9      4.4     2.9        1.4       0.2  Iris-setosa\n",
       "9  10      4.9     3.1        1.5       0.1  Iris-setosa"
      ]
     },
     "execution_count": 23,
     "metadata": {},
     "output_type": "execute_result"
    }
   ],
   "source": [
    "iris.head(10)\n"
   ]
  },
  {
   "cell_type": "code",
   "execution_count": 24,
   "metadata": {},
   "outputs": [
    {
     "data": {
      "text/html": [
       "<div>\n",
       "<style scoped>\n",
       "    .dataframe tbody tr th:only-of-type {\n",
       "        vertical-align: middle;\n",
       "    }\n",
       "\n",
       "    .dataframe tbody tr th {\n",
       "        vertical-align: top;\n",
       "    }\n",
       "\n",
       "    .dataframe thead th {\n",
       "        text-align: right;\n",
       "    }\n",
       "</style>\n",
       "<table border=\"1\" class=\"dataframe\">\n",
       "  <thead>\n",
       "    <tr style=\"text-align: right;\">\n",
       "      <th></th>\n",
       "      <th>Id</th>\n",
       "      <th>Taç Boy</th>\n",
       "      <th>Taç En</th>\n",
       "      <th>Çanak Boy</th>\n",
       "      <th>Çanak En</th>\n",
       "      <th>Tür</th>\n",
       "    </tr>\n",
       "  </thead>\n",
       "  <tbody>\n",
       "    <tr>\n",
       "      <th>145</th>\n",
       "      <td>146</td>\n",
       "      <td>6.7</td>\n",
       "      <td>3.0</td>\n",
       "      <td>5.2</td>\n",
       "      <td>2.3</td>\n",
       "      <td>Iris-virginica</td>\n",
       "    </tr>\n",
       "    <tr>\n",
       "      <th>146</th>\n",
       "      <td>147</td>\n",
       "      <td>6.3</td>\n",
       "      <td>2.5</td>\n",
       "      <td>5.0</td>\n",
       "      <td>1.9</td>\n",
       "      <td>Iris-virginica</td>\n",
       "    </tr>\n",
       "    <tr>\n",
       "      <th>147</th>\n",
       "      <td>148</td>\n",
       "      <td>6.5</td>\n",
       "      <td>3.0</td>\n",
       "      <td>5.2</td>\n",
       "      <td>2.0</td>\n",
       "      <td>Iris-virginica</td>\n",
       "    </tr>\n",
       "    <tr>\n",
       "      <th>148</th>\n",
       "      <td>149</td>\n",
       "      <td>6.2</td>\n",
       "      <td>3.4</td>\n",
       "      <td>5.4</td>\n",
       "      <td>2.3</td>\n",
       "      <td>Iris-virginica</td>\n",
       "    </tr>\n",
       "    <tr>\n",
       "      <th>149</th>\n",
       "      <td>150</td>\n",
       "      <td>5.9</td>\n",
       "      <td>3.0</td>\n",
       "      <td>5.1</td>\n",
       "      <td>1.8</td>\n",
       "      <td>Iris-virginica</td>\n",
       "    </tr>\n",
       "  </tbody>\n",
       "</table>\n",
       "</div>"
      ],
      "text/plain": [
       "      Id  Taç Boy  Taç En  Çanak Boy  Çanak En             Tür\n",
       "145  146      6.7     3.0        5.2       2.3  Iris-virginica\n",
       "146  147      6.3     2.5        5.0       1.9  Iris-virginica\n",
       "147  148      6.5     3.0        5.2       2.0  Iris-virginica\n",
       "148  149      6.2     3.4        5.4       2.3  Iris-virginica\n",
       "149  150      5.9     3.0        5.1       1.8  Iris-virginica"
      ]
     },
     "execution_count": 24,
     "metadata": {},
     "output_type": "execute_result"
    }
   ],
   "source": [
    "iris.tail(5)\n"
   ]
  },
  {
   "cell_type": "code",
   "execution_count": 25,
   "metadata": {},
   "outputs": [
    {
     "data": {
      "text/plain": [
       "RangeIndex(start=0, stop=150, step=1)"
      ]
     },
     "execution_count": 25,
     "metadata": {},
     "output_type": "execute_result"
    }
   ],
   "source": [
    "iris.index\n"
   ]
  },
  {
   "cell_type": "code",
   "execution_count": 26,
   "metadata": {},
   "outputs": [
    {
     "data": {
      "text/plain": [
       "(150, 6)"
      ]
     },
     "execution_count": 26,
     "metadata": {},
     "output_type": "execute_result"
    }
   ],
   "source": [
    "iris.shape\n"
   ]
  },
  {
   "cell_type": "code",
   "execution_count": 28,
   "metadata": {},
   "outputs": [
    {
     "name": "stdout",
     "output_type": "stream",
     "text": [
      "<class 'pandas.core.frame.DataFrame'>\n",
      "RangeIndex: 150 entries, 0 to 149\n",
      "Data columns (total 6 columns):\n",
      " #   Column     Non-Null Count  Dtype  \n",
      "---  ------     --------------  -----  \n",
      " 0   Id         150 non-null    int64  \n",
      " 1   Taç Boy    150 non-null    float64\n",
      " 2   Taç En     150 non-null    float64\n",
      " 3   Çanak Boy  150 non-null    float64\n",
      " 4   Çanak En   150 non-null    float64\n",
      " 5   Tür        150 non-null    object \n",
      "dtypes: float64(4), int64(1), object(1)\n",
      "memory usage: 7.2+ KB\n"
     ]
    }
   ],
   "source": [
    "iris.info()\n"
   ]
  },
  {
   "cell_type": "code",
   "execution_count": 30,
   "metadata": {},
   "outputs": [
    {
     "data": {
      "text/html": [
       "<div>\n",
       "<style scoped>\n",
       "    .dataframe tbody tr th:only-of-type {\n",
       "        vertical-align: middle;\n",
       "    }\n",
       "\n",
       "    .dataframe tbody tr th {\n",
       "        vertical-align: top;\n",
       "    }\n",
       "\n",
       "    .dataframe thead th {\n",
       "        text-align: right;\n",
       "    }\n",
       "</style>\n",
       "<table border=\"1\" class=\"dataframe\">\n",
       "  <thead>\n",
       "    <tr style=\"text-align: right;\">\n",
       "      <th></th>\n",
       "      <th>Id</th>\n",
       "      <th>Taç Boy</th>\n",
       "      <th>Taç En</th>\n",
       "      <th>Çanak Boy</th>\n",
       "      <th>Çanak En</th>\n",
       "      <th>Tür</th>\n",
       "    </tr>\n",
       "  </thead>\n",
       "  <tbody>\n",
       "    <tr>\n",
       "      <th>0</th>\n",
       "      <td>1</td>\n",
       "      <td>5.1</td>\n",
       "      <td>3.5</td>\n",
       "      <td>1.4</td>\n",
       "      <td>0.2</td>\n",
       "      <td>Iris-setosa</td>\n",
       "    </tr>\n",
       "    <tr>\n",
       "      <th>1</th>\n",
       "      <td>2</td>\n",
       "      <td>4.9</td>\n",
       "      <td>3.0</td>\n",
       "      <td>1.4</td>\n",
       "      <td>0.2</td>\n",
       "      <td>Iris-setosa</td>\n",
       "    </tr>\n",
       "    <tr>\n",
       "      <th>2</th>\n",
       "      <td>3</td>\n",
       "      <td>4.7</td>\n",
       "      <td>3.2</td>\n",
       "      <td>1.3</td>\n",
       "      <td>0.2</td>\n",
       "      <td>Iris-setosa</td>\n",
       "    </tr>\n",
       "    <tr>\n",
       "      <th>3</th>\n",
       "      <td>4</td>\n",
       "      <td>4.6</td>\n",
       "      <td>3.1</td>\n",
       "      <td>1.5</td>\n",
       "      <td>0.2</td>\n",
       "      <td>Iris-setosa</td>\n",
       "    </tr>\n",
       "    <tr>\n",
       "      <th>4</th>\n",
       "      <td>5</td>\n",
       "      <td>5.0</td>\n",
       "      <td>3.6</td>\n",
       "      <td>1.4</td>\n",
       "      <td>0.2</td>\n",
       "      <td>Iris-setosa</td>\n",
       "    </tr>\n",
       "    <tr>\n",
       "      <th>...</th>\n",
       "      <td>...</td>\n",
       "      <td>...</td>\n",
       "      <td>...</td>\n",
       "      <td>...</td>\n",
       "      <td>...</td>\n",
       "      <td>...</td>\n",
       "    </tr>\n",
       "    <tr>\n",
       "      <th>145</th>\n",
       "      <td>146</td>\n",
       "      <td>6.7</td>\n",
       "      <td>3.0</td>\n",
       "      <td>5.2</td>\n",
       "      <td>2.3</td>\n",
       "      <td>Iris-virginica</td>\n",
       "    </tr>\n",
       "    <tr>\n",
       "      <th>146</th>\n",
       "      <td>147</td>\n",
       "      <td>6.3</td>\n",
       "      <td>2.5</td>\n",
       "      <td>5.0</td>\n",
       "      <td>1.9</td>\n",
       "      <td>Iris-virginica</td>\n",
       "    </tr>\n",
       "    <tr>\n",
       "      <th>147</th>\n",
       "      <td>148</td>\n",
       "      <td>6.5</td>\n",
       "      <td>3.0</td>\n",
       "      <td>5.2</td>\n",
       "      <td>2.0</td>\n",
       "      <td>Iris-virginica</td>\n",
       "    </tr>\n",
       "    <tr>\n",
       "      <th>148</th>\n",
       "      <td>149</td>\n",
       "      <td>6.2</td>\n",
       "      <td>3.4</td>\n",
       "      <td>5.4</td>\n",
       "      <td>2.3</td>\n",
       "      <td>Iris-virginica</td>\n",
       "    </tr>\n",
       "    <tr>\n",
       "      <th>149</th>\n",
       "      <td>150</td>\n",
       "      <td>5.9</td>\n",
       "      <td>3.0</td>\n",
       "      <td>5.1</td>\n",
       "      <td>1.8</td>\n",
       "      <td>Iris-virginica</td>\n",
       "    </tr>\n",
       "  </tbody>\n",
       "</table>\n",
       "<p>150 rows × 6 columns</p>\n",
       "</div>"
      ],
      "text/plain": [
       "      Id  Taç Boy  Taç En  Çanak Boy  Çanak En             Tür\n",
       "0      1      5.1     3.5        1.4       0.2     Iris-setosa\n",
       "1      2      4.9     3.0        1.4       0.2     Iris-setosa\n",
       "2      3      4.7     3.2        1.3       0.2     Iris-setosa\n",
       "3      4      4.6     3.1        1.5       0.2     Iris-setosa\n",
       "4      5      5.0     3.6        1.4       0.2     Iris-setosa\n",
       "..   ...      ...     ...        ...       ...             ...\n",
       "145  146      6.7     3.0        5.2       2.3  Iris-virginica\n",
       "146  147      6.3     2.5        5.0       1.9  Iris-virginica\n",
       "147  148      6.5     3.0        5.2       2.0  Iris-virginica\n",
       "148  149      6.2     3.4        5.4       2.3  Iris-virginica\n",
       "149  150      5.9     3.0        5.1       1.8  Iris-virginica\n",
       "\n",
       "[150 rows x 6 columns]"
      ]
     },
     "execution_count": 30,
     "metadata": {},
     "output_type": "execute_result"
    }
   ],
   "source": [
    "iris_yeni = iris.copy()\n",
    "iris_yeni\n"
   ]
  },
  {
   "cell_type": "code",
   "execution_count": 32,
   "metadata": {},
   "outputs": [
    {
     "name": "stdout",
     "output_type": "stream",
     "text": [
      "[[1 5.1 3.5 1.4 0.2 'Iris-setosa']\n",
      " [2 4.9 3.0 1.4 0.2 'Iris-setosa']\n",
      " [3 4.7 3.2 1.3 0.2 'Iris-setosa']\n",
      " [4 4.6 3.1 1.5 0.2 'Iris-setosa']\n",
      " [5 5.0 3.6 1.4 0.2 'Iris-setosa']\n",
      " [6 5.4 3.9 1.7 0.4 'Iris-setosa']\n",
      " [7 4.6 3.4 1.4 0.3 'Iris-setosa']\n",
      " [8 5.0 3.4 1.5 0.2 'Iris-setosa']\n",
      " [9 4.4 2.9 1.4 0.2 'Iris-setosa']\n",
      " [10 4.9 3.1 1.5 0.1 'Iris-setosa']\n",
      " [11 5.4 3.7 1.5 0.2 'Iris-setosa']\n",
      " [12 4.8 3.4 1.6 0.2 'Iris-setosa']\n",
      " [13 4.8 3.0 1.4 0.1 'Iris-setosa']\n",
      " [14 4.3 3.0 1.1 0.1 'Iris-setosa']\n",
      " [15 5.8 4.0 1.2 0.2 'Iris-setosa']\n",
      " [16 5.7 4.4 1.5 0.4 'Iris-setosa']\n",
      " [17 5.4 3.9 1.3 0.4 'Iris-setosa']\n",
      " [18 5.1 3.5 1.4 0.3 'Iris-setosa']\n",
      " [19 5.7 3.8 1.7 0.3 'Iris-setosa']\n",
      " [20 5.1 3.8 1.5 0.3 'Iris-setosa']\n",
      " [21 5.4 3.4 1.7 0.2 'Iris-setosa']\n",
      " [22 5.1 3.7 1.5 0.4 'Iris-setosa']\n",
      " [23 4.6 3.6 1.0 0.2 'Iris-setosa']\n",
      " [24 5.1 3.3 1.7 0.5 'Iris-setosa']\n",
      " [25 4.8 3.4 1.9 0.2 'Iris-setosa']\n",
      " [26 5.0 3.0 1.6 0.2 'Iris-setosa']\n",
      " [27 5.0 3.4 1.6 0.4 'Iris-setosa']\n",
      " [28 5.2 3.5 1.5 0.2 'Iris-setosa']\n",
      " [29 5.2 3.4 1.4 0.2 'Iris-setosa']\n",
      " [30 4.7 3.2 1.6 0.2 'Iris-setosa']\n",
      " [31 4.8 3.1 1.6 0.2 'Iris-setosa']\n",
      " [32 5.4 3.4 1.5 0.4 'Iris-setosa']\n",
      " [33 5.2 4.1 1.5 0.1 'Iris-setosa']\n",
      " [34 5.5 4.2 1.4 0.2 'Iris-setosa']\n",
      " [35 4.9 3.1 1.5 0.1 'Iris-setosa']\n",
      " [36 5.0 3.2 1.2 0.2 'Iris-setosa']\n",
      " [37 5.5 3.5 1.3 0.2 'Iris-setosa']\n",
      " [38 4.9 3.1 1.5 0.1 'Iris-setosa']\n",
      " [39 4.4 3.0 1.3 0.2 'Iris-setosa']\n",
      " [40 5.1 3.4 1.5 0.2 'Iris-setosa']\n",
      " [41 5.0 3.5 1.3 0.3 'Iris-setosa']\n",
      " [42 4.5 2.3 1.3 0.3 'Iris-setosa']\n",
      " [43 4.4 3.2 1.3 0.2 'Iris-setosa']\n",
      " [44 5.0 3.5 1.6 0.6 'Iris-setosa']\n",
      " [45 5.1 3.8 1.9 0.4 'Iris-setosa']\n",
      " [46 4.8 3.0 1.4 0.3 'Iris-setosa']\n",
      " [47 5.1 3.8 1.6 0.2 'Iris-setosa']\n",
      " [48 4.6 3.2 1.4 0.2 'Iris-setosa']\n",
      " [49 5.3 3.7 1.5 0.2 'Iris-setosa']\n",
      " [50 5.0 3.3 1.4 0.2 'Iris-setosa']\n",
      " [51 7.0 3.2 4.7 1.4 'Iris-versicolor']\n",
      " [52 6.4 3.2 4.5 1.5 'Iris-versicolor']\n",
      " [53 6.9 3.1 4.9 1.5 'Iris-versicolor']\n",
      " [54 5.5 2.3 4.0 1.3 'Iris-versicolor']\n",
      " [55 6.5 2.8 4.6 1.5 'Iris-versicolor']\n",
      " [56 5.7 2.8 4.5 1.3 'Iris-versicolor']\n",
      " [57 6.3 3.3 4.7 1.6 'Iris-versicolor']\n",
      " [58 4.9 2.4 3.3 1.0 'Iris-versicolor']\n",
      " [59 6.6 2.9 4.6 1.3 'Iris-versicolor']\n",
      " [60 5.2 2.7 3.9 1.4 'Iris-versicolor']\n",
      " [61 5.0 2.0 3.5 1.0 'Iris-versicolor']\n",
      " [62 5.9 3.0 4.2 1.5 'Iris-versicolor']\n",
      " [63 6.0 2.2 4.0 1.0 'Iris-versicolor']\n",
      " [64 6.1 2.9 4.7 1.4 'Iris-versicolor']\n",
      " [65 5.6 2.9 3.6 1.3 'Iris-versicolor']\n",
      " [66 6.7 3.1 4.4 1.4 'Iris-versicolor']\n",
      " [67 5.6 3.0 4.5 1.5 'Iris-versicolor']\n",
      " [68 5.8 2.7 4.1 1.0 'Iris-versicolor']\n",
      " [69 6.2 2.2 4.5 1.5 'Iris-versicolor']\n",
      " [70 5.6 2.5 3.9 1.1 'Iris-versicolor']\n",
      " [71 5.9 3.2 4.8 1.8 'Iris-versicolor']\n",
      " [72 6.1 2.8 4.0 1.3 'Iris-versicolor']\n",
      " [73 6.3 2.5 4.9 1.5 'Iris-versicolor']\n",
      " [74 6.1 2.8 4.7 1.2 'Iris-versicolor']\n",
      " [75 6.4 2.9 4.3 1.3 'Iris-versicolor']\n",
      " [76 6.6 3.0 4.4 1.4 'Iris-versicolor']\n",
      " [77 6.8 2.8 4.8 1.4 'Iris-versicolor']\n",
      " [78 6.7 3.0 5.0 1.7 'Iris-versicolor']\n",
      " [79 6.0 2.9 4.5 1.5 'Iris-versicolor']\n",
      " [80 5.7 2.6 3.5 1.0 'Iris-versicolor']\n",
      " [81 5.5 2.4 3.8 1.1 'Iris-versicolor']\n",
      " [82 5.5 2.4 3.7 1.0 'Iris-versicolor']\n",
      " [83 5.8 2.7 3.9 1.2 'Iris-versicolor']\n",
      " [84 6.0 2.7 5.1 1.6 'Iris-versicolor']\n",
      " [85 5.4 3.0 4.5 1.5 'Iris-versicolor']\n",
      " [86 6.0 3.4 4.5 1.6 'Iris-versicolor']\n",
      " [87 6.7 3.1 4.7 1.5 'Iris-versicolor']\n",
      " [88 6.3 2.3 4.4 1.3 'Iris-versicolor']\n",
      " [89 5.6 3.0 4.1 1.3 'Iris-versicolor']\n",
      " [90 5.5 2.5 4.0 1.3 'Iris-versicolor']\n",
      " [91 5.5 2.6 4.4 1.2 'Iris-versicolor']\n",
      " [92 6.1 3.0 4.6 1.4 'Iris-versicolor']\n",
      " [93 5.8 2.6 4.0 1.2 'Iris-versicolor']\n",
      " [94 5.0 2.3 3.3 1.0 'Iris-versicolor']\n",
      " [95 5.6 2.7 4.2 1.3 'Iris-versicolor']\n",
      " [96 5.7 3.0 4.2 1.2 'Iris-versicolor']\n",
      " [97 5.7 2.9 4.2 1.3 'Iris-versicolor']\n",
      " [98 6.2 2.9 4.3 1.3 'Iris-versicolor']\n",
      " [99 5.1 2.5 3.0 1.1 'Iris-versicolor']\n",
      " [100 5.7 2.8 4.1 1.3 'Iris-versicolor']\n",
      " [101 6.3 3.3 6.0 2.5 'Iris-virginica']\n",
      " [102 5.8 2.7 5.1 1.9 'Iris-virginica']\n",
      " [103 7.1 3.0 5.9 2.1 'Iris-virginica']\n",
      " [104 6.3 2.9 5.6 1.8 'Iris-virginica']\n",
      " [105 6.5 3.0 5.8 2.2 'Iris-virginica']\n",
      " [106 7.6 3.0 6.6 2.1 'Iris-virginica']\n",
      " [107 4.9 2.5 4.5 1.7 'Iris-virginica']\n",
      " [108 7.3 2.9 6.3 1.8 'Iris-virginica']\n",
      " [109 6.7 2.5 5.8 1.8 'Iris-virginica']\n",
      " [110 7.2 3.6 6.1 2.5 'Iris-virginica']\n",
      " [111 6.5 3.2 5.1 2.0 'Iris-virginica']\n",
      " [112 6.4 2.7 5.3 1.9 'Iris-virginica']\n",
      " [113 6.8 3.0 5.5 2.1 'Iris-virginica']\n",
      " [114 5.7 2.5 5.0 2.0 'Iris-virginica']\n",
      " [115 5.8 2.8 5.1 2.4 'Iris-virginica']\n",
      " [116 6.4 3.2 5.3 2.3 'Iris-virginica']\n",
      " [117 6.5 3.0 5.5 1.8 'Iris-virginica']\n",
      " [118 7.7 3.8 6.7 2.2 'Iris-virginica']\n",
      " [119 7.7 2.6 6.9 2.3 'Iris-virginica']\n",
      " [120 6.0 2.2 5.0 1.5 'Iris-virginica']\n",
      " [121 6.9 3.2 5.7 2.3 'Iris-virginica']\n",
      " [122 5.6 2.8 4.9 2.0 'Iris-virginica']\n",
      " [123 7.7 2.8 6.7 2.0 'Iris-virginica']\n",
      " [124 6.3 2.7 4.9 1.8 'Iris-virginica']\n",
      " [125 6.7 3.3 5.7 2.1 'Iris-virginica']\n",
      " [126 7.2 3.2 6.0 1.8 'Iris-virginica']\n",
      " [127 6.2 2.8 4.8 1.8 'Iris-virginica']\n",
      " [128 6.1 3.0 4.9 1.8 'Iris-virginica']\n",
      " [129 6.4 2.8 5.6 2.1 'Iris-virginica']\n",
      " [130 7.2 3.0 5.8 1.6 'Iris-virginica']\n",
      " [131 7.4 2.8 6.1 1.9 'Iris-virginica']\n",
      " [132 7.9 3.8 6.4 2.0 'Iris-virginica']\n",
      " [133 6.4 2.8 5.6 2.2 'Iris-virginica']\n",
      " [134 6.3 2.8 5.1 1.5 'Iris-virginica']\n",
      " [135 6.1 2.6 5.6 1.4 'Iris-virginica']\n",
      " [136 7.7 3.0 6.1 2.3 'Iris-virginica']\n",
      " [137 6.3 3.4 5.6 2.4 'Iris-virginica']\n",
      " [138 6.4 3.1 5.5 1.8 'Iris-virginica']\n",
      " [139 6.0 3.0 4.8 1.8 'Iris-virginica']\n",
      " [140 6.9 3.1 5.4 2.1 'Iris-virginica']\n",
      " [141 6.7 3.1 5.6 2.4 'Iris-virginica']\n",
      " [142 6.9 3.1 5.1 2.3 'Iris-virginica']\n",
      " [143 5.8 2.7 5.1 1.9 'Iris-virginica']\n",
      " [144 6.8 3.2 5.9 2.3 'Iris-virginica']\n",
      " [145 6.7 3.3 5.7 2.5 'Iris-virginica']\n",
      " [146 6.7 3.0 5.2 2.3 'Iris-virginica']\n",
      " [147 6.3 2.5 5.0 1.9 'Iris-virginica']\n",
      " [148 6.5 3.0 5.2 2.0 'Iris-virginica']\n",
      " [149 6.2 3.4 5.4 2.3 'Iris-virginica']\n",
      " [150 5.9 3.0 5.1 1.8 'Iris-virginica']]\n"
     ]
    }
   ],
   "source": [
    "np_dizi = iris.values\n",
    "print(np_dizi)\n"
   ]
  },
  {
   "cell_type": "code",
   "execution_count": 33,
   "metadata": {},
   "outputs": [
    {
     "name": "stdout",
     "output_type": "stream",
     "text": [
      "      Taç Boy    Taç En  Çanak Boy  Çanak En\n",
      "0    1.629241  1.252763   0.336472 -1.609438\n",
      "1    1.589235  1.098612   0.336472 -1.609438\n",
      "2    1.547563  1.163151   0.262364 -1.609438\n",
      "3    1.526056  1.131402   0.405465 -1.609438\n",
      "4    1.609438  1.280934   0.336472 -1.609438\n",
      "..        ...       ...        ...       ...\n",
      "145  1.902108  1.098612   1.648659  0.832909\n",
      "146  1.840550  0.916291   1.609438  0.641854\n",
      "147  1.871802  1.098612   1.648659  0.693147\n",
      "148  1.824549  1.223775   1.686399  0.832909\n",
      "149  1.774952  1.098612   1.629241  0.587787\n",
      "\n",
      "[150 rows x 4 columns]\n"
     ]
    }
   ],
   "source": [
    "import numpy as np\n",
    "\n",
    "dizi = iris.iloc[:, [1, 2, 3, 4]]\n",
    "dizi_log = np.log(dizi)\n",
    "print(dizi_log)\n"
   ]
  },
  {
   "cell_type": "code",
   "execution_count": 34,
   "metadata": {},
   "outputs": [
    {
     "data": {
      "text/plain": [
       "(ABC, 2016)    32.5\n",
       "(ABC, 2017)    12.3\n",
       "(DEF, 2016)    24.7\n",
       "(DEF, 2017)    18.6\n",
       "(XYZ, 2016)    20.3\n",
       "(XYZ, 2017)     7.2\n",
       "(KLM, 2016)    51.9\n",
       "(KLM, 2017)    56.2\n",
       "dtype: float64"
      ]
     },
     "execution_count": 34,
     "metadata": {},
     "output_type": "execute_result"
    }
   ],
   "source": [
    "indeks = [('ABC', 2016), ('ABC', 2017), ('DEF', 2016), ('DEF', 2017),\n",
    "          ('XYZ', 2016), ('XYZ', 2017), ('KLM', 2016), ('KLM', 2017)]\n",
    "\n",
    "fiyatlar = [32.5, 12.3, 24.7, 18.6, 20.3, 7.2, 51.9, 56.2]\n",
    "\n",
    "hisseler = pd.Series(fiyatlar, index=indeks)\n",
    "\n",
    "hisseler"
   ]
  },
  {
   "cell_type": "code",
   "execution_count": 35,
   "metadata": {},
   "outputs": [
    {
     "data": {
      "text/plain": [
       "(XYZ, 2016)    20.3\n",
       "(XYZ, 2017)     7.2\n",
       "(KLM, 2016)    51.9\n",
       "(KLM, 2017)    56.2\n",
       "dtype: float64"
      ]
     },
     "execution_count": 35,
     "metadata": {},
     "output_type": "execute_result"
    }
   ],
   "source": [
    "hisseler[('XYZ', 2016): ('KLM', 2017)]"
   ]
  },
  {
   "cell_type": "code",
   "execution_count": 36,
   "metadata": {},
   "outputs": [
    {
     "data": {
      "text/plain": [
       "MultiIndex([('ABC', 2016),\n",
       "            ('ABC', 2017),\n",
       "            ('DEF', 2016),\n",
       "            ('DEF', 2017),\n",
       "            ('XYZ', 2016),\n",
       "            ('XYZ', 2017),\n",
       "            ('KLM', 2016),\n",
       "            ('KLM', 2017)],\n",
       "           )"
      ]
     },
     "execution_count": 36,
     "metadata": {},
     "output_type": "execute_result"
    }
   ],
   "source": [
    "indeks = pd.MultiIndex.from_tuples(indeks)\n",
    "indeks"
   ]
  },
  {
   "cell_type": "code",
   "execution_count": 37,
   "metadata": {},
   "outputs": [
    {
     "data": {
      "text/plain": [
       "ABC  2016    32.5\n",
       "     2017    12.3\n",
       "DEF  2016    24.7\n",
       "     2017    18.6\n",
       "XYZ  2016    20.3\n",
       "     2017     7.2\n",
       "KLM  2016    51.9\n",
       "     2017    56.2\n",
       "dtype: float64"
      ]
     },
     "execution_count": 37,
     "metadata": {},
     "output_type": "execute_result"
    }
   ],
   "source": [
    "hisseler = pd.Series(fiyatlar, index=indeks)\n",
    "hisseler"
   ]
  },
  {
   "cell_type": "code",
   "execution_count": 38,
   "metadata": {},
   "outputs": [
    {
     "data": {
      "text/plain": [
       "Hisse  Yıllar\n",
       "ABC    2016      32.5\n",
       "       2017      12.3\n",
       "DEF    2016      24.7\n",
       "       2017      18.6\n",
       "XYZ    2016      20.3\n",
       "       2017       7.2\n",
       "KLM    2016      51.9\n",
       "       2017      56.2\n",
       "dtype: float64"
      ]
     },
     "execution_count": 38,
     "metadata": {},
     "output_type": "execute_result"
    }
   ],
   "source": [
    "hisseler.index.names = ['Hisse', 'Yıllar']\n",
    "hisseler"
   ]
  },
  {
   "cell_type": "code",
   "execution_count": 41,
   "metadata": {},
   "outputs": [
    {
     "data": {
      "text/html": [
       "<div>\n",
       "<style scoped>\n",
       "    .dataframe tbody tr th:only-of-type {\n",
       "        vertical-align: middle;\n",
       "    }\n",
       "\n",
       "    .dataframe tbody tr th {\n",
       "        vertical-align: top;\n",
       "    }\n",
       "\n",
       "    .dataframe thead th {\n",
       "        text-align: right;\n",
       "    }\n",
       "</style>\n",
       "<table border=\"1\" class=\"dataframe\">\n",
       "  <thead>\n",
       "    <tr style=\"text-align: right;\">\n",
       "      <th>Yıllar</th>\n",
       "      <th>2016</th>\n",
       "      <th>2017</th>\n",
       "    </tr>\n",
       "    <tr>\n",
       "      <th>Hisse</th>\n",
       "      <th></th>\n",
       "      <th></th>\n",
       "    </tr>\n",
       "  </thead>\n",
       "  <tbody>\n",
       "    <tr>\n",
       "      <th>ABC</th>\n",
       "      <td>32.5</td>\n",
       "      <td>12.3</td>\n",
       "    </tr>\n",
       "    <tr>\n",
       "      <th>DEF</th>\n",
       "      <td>24.7</td>\n",
       "      <td>18.6</td>\n",
       "    </tr>\n",
       "    <tr>\n",
       "      <th>KLM</th>\n",
       "      <td>51.9</td>\n",
       "      <td>56.2</td>\n",
       "    </tr>\n",
       "    <tr>\n",
       "      <th>XYZ</th>\n",
       "      <td>20.3</td>\n",
       "      <td>7.2</td>\n",
       "    </tr>\n",
       "  </tbody>\n",
       "</table>\n",
       "</div>"
      ],
      "text/plain": [
       "Yıllar  2016  2017\n",
       "Hisse             \n",
       "ABC     32.5  12.3\n",
       "DEF     24.7  18.6\n",
       "KLM     51.9  56.2\n",
       "XYZ     20.3   7.2"
      ]
     },
     "execution_count": 41,
     "metadata": {},
     "output_type": "execute_result"
    }
   ],
   "source": [
    "hisse_df = hisseler.unstack()\n",
    "hisse_df"
   ]
  },
  {
   "cell_type": "code",
   "execution_count": 42,
   "metadata": {},
   "outputs": [
    {
     "data": {
      "text/plain": [
       "pandas.core.frame.DataFrame"
      ]
     },
     "execution_count": 42,
     "metadata": {},
     "output_type": "execute_result"
    }
   ],
   "source": [
    "type(hisse_df)"
   ]
  },
  {
   "cell_type": "code",
   "execution_count": 43,
   "metadata": {},
   "outputs": [
    {
     "data": {
      "text/plain": [
       "Hisse  Yıllar\n",
       "ABC    2016      32.5\n",
       "       2017      12.3\n",
       "DEF    2016      24.7\n",
       "       2017      18.6\n",
       "KLM    2016      51.9\n",
       "       2017      56.2\n",
       "XYZ    2016      20.3\n",
       "       2017       7.2\n",
       "dtype: float64"
      ]
     },
     "execution_count": 43,
     "metadata": {},
     "output_type": "execute_result"
    }
   ],
   "source": [
    "hisse_df.stack()"
   ]
  },
  {
   "cell_type": "code",
   "execution_count": 44,
   "metadata": {},
   "outputs": [
    {
     "data": {
      "text/plain": [
       "MultiIndex([('x', 1),\n",
       "            ('x', 2),\n",
       "            ('y', 1),\n",
       "            ('y', 2)],\n",
       "           )"
      ]
     },
     "execution_count": 44,
     "metadata": {},
     "output_type": "execute_result"
    }
   ],
   "source": [
    "pd.MultiIndex.from_tuples([('x', 1),('x',2), ('y',1), ('y',2)])"
   ]
  },
  {
   "cell_type": "code",
   "execution_count": 45,
   "metadata": {},
   "outputs": [
    {
     "data": {
      "text/plain": [
       "MultiIndex([('x', 1),\n",
       "            ('x', 2),\n",
       "            ('y', 1),\n",
       "            ('y', 2)],\n",
       "           )"
      ]
     },
     "execution_count": 45,
     "metadata": {},
     "output_type": "execute_result"
    }
   ],
   "source": [
    "pd.MultiIndex.from_arrays([['x', 'x', 'y', 'y'], [1, 2, 1, 2]])"
   ]
  },
  {
   "cell_type": "code",
   "execution_count": 46,
   "metadata": {},
   "outputs": [
    {
     "data": {
      "text/plain": [
       "MultiIndex([('x', 1),\n",
       "            ('x', 2),\n",
       "            ('y', 1),\n",
       "            ('y', 2)],\n",
       "           )"
      ]
     },
     "execution_count": 46,
     "metadata": {},
     "output_type": "execute_result"
    }
   ],
   "source": [
    "pd.MultiIndex.from_product([['x', 'y'], [1, 2]])"
   ]
  },
  {
   "cell_type": "code",
   "execution_count": 47,
   "metadata": {},
   "outputs": [
    {
     "data": {
      "text/html": [
       "<div>\n",
       "<style scoped>\n",
       "    .dataframe tbody tr th:only-of-type {\n",
       "        vertical-align: middle;\n",
       "    }\n",
       "\n",
       "    .dataframe tbody tr th {\n",
       "        vertical-align: top;\n",
       "    }\n",
       "\n",
       "    .dataframe thead tr th {\n",
       "        text-align: left;\n",
       "    }\n",
       "</style>\n",
       "<table border=\"1\" class=\"dataframe\">\n",
       "  <thead>\n",
       "    <tr>\n",
       "      <th></th>\n",
       "      <th></th>\n",
       "      <th colspan=\"2\" halign=\"left\">Q1</th>\n",
       "      <th colspan=\"2\" halign=\"left\">Q2</th>\n",
       "      <th colspan=\"2\" halign=\"left\">Q3</th>\n",
       "      <th colspan=\"2\" halign=\"left\">Q4</th>\n",
       "    </tr>\n",
       "    <tr>\n",
       "      <th></th>\n",
       "      <th></th>\n",
       "      <th>Hacim</th>\n",
       "      <th>Kapanış</th>\n",
       "      <th>Hacim</th>\n",
       "      <th>Kapanış</th>\n",
       "      <th>Hacim</th>\n",
       "      <th>Kapanış</th>\n",
       "      <th>Hacim</th>\n",
       "      <th>Kapanış</th>\n",
       "    </tr>\n",
       "  </thead>\n",
       "  <tbody>\n",
       "    <tr>\n",
       "      <th rowspan=\"2\" valign=\"top\">ABC</th>\n",
       "      <th>2016</th>\n",
       "      <td>10762.0</td>\n",
       "      <td>32.5</td>\n",
       "      <td>12638.0</td>\n",
       "      <td>33.5</td>\n",
       "      <td>13689.0</td>\n",
       "      <td>35.2</td>\n",
       "      <td>18414.0</td>\n",
       "      <td>37.4</td>\n",
       "    </tr>\n",
       "    <tr>\n",
       "      <th>2017</th>\n",
       "      <td>10688.0</td>\n",
       "      <td>12.3</td>\n",
       "      <td>14348.0</td>\n",
       "      <td>13.2</td>\n",
       "      <td>15924.0</td>\n",
       "      <td>15.3</td>\n",
       "      <td>15243.0</td>\n",
       "      <td>17.9</td>\n",
       "    </tr>\n",
       "    <tr>\n",
       "      <th rowspan=\"2\" valign=\"top\">DEF</th>\n",
       "      <th>2016</th>\n",
       "      <td>14841.0</td>\n",
       "      <td>24.7</td>\n",
       "      <td>14966.0</td>\n",
       "      <td>22.1</td>\n",
       "      <td>13098.0</td>\n",
       "      <td>19.3</td>\n",
       "      <td>17439.0</td>\n",
       "      <td>15.4</td>\n",
       "    </tr>\n",
       "    <tr>\n",
       "      <th>2017</th>\n",
       "      <td>15607.0</td>\n",
       "      <td>18.6</td>\n",
       "      <td>16166.0</td>\n",
       "      <td>13.4</td>\n",
       "      <td>10627.0</td>\n",
       "      <td>15.1</td>\n",
       "      <td>13396.0</td>\n",
       "      <td>15.3</td>\n",
       "    </tr>\n",
       "    <tr>\n",
       "      <th rowspan=\"2\" valign=\"top\">KLM</th>\n",
       "      <th>2016</th>\n",
       "      <td>12565.0</td>\n",
       "      <td>20.3</td>\n",
       "      <td>17469.0</td>\n",
       "      <td>21.4</td>\n",
       "      <td>18964.0</td>\n",
       "      <td>22.5</td>\n",
       "      <td>15187.0</td>\n",
       "      <td>23.6</td>\n",
       "    </tr>\n",
       "    <tr>\n",
       "      <th>2017</th>\n",
       "      <td>13203.0</td>\n",
       "      <td>7.2</td>\n",
       "      <td>10629.0</td>\n",
       "      <td>7.2</td>\n",
       "      <td>15239.0</td>\n",
       "      <td>8.2</td>\n",
       "      <td>18307.0</td>\n",
       "      <td>9.1</td>\n",
       "    </tr>\n",
       "  </tbody>\n",
       "</table>\n",
       "</div>"
      ],
      "text/plain": [
       "               Q1               Q2               Q3               Q4        \n",
       "            Hacim Kapanış    Hacim Kapanış    Hacim Kapanış    Hacim Kapanış\n",
       "ABC 2016  10762.0    32.5  12638.0    33.5  13689.0    35.2  18414.0    37.4\n",
       "    2017  10688.0    12.3  14348.0    13.2  15924.0    15.3  15243.0    17.9\n",
       "DEF 2016  14841.0    24.7  14966.0    22.1  13098.0    19.3  17439.0    15.4\n",
       "    2017  15607.0    18.6  16166.0    13.4  10627.0    15.1  13396.0    15.3\n",
       "KLM 2016  12565.0    20.3  17469.0    21.4  18964.0    22.5  15187.0    23.6\n",
       "    2017  13203.0     7.2  10629.0     7.2  15239.0     8.2  18307.0     9.1"
      ]
     },
     "execution_count": 47,
     "metadata": {},
     "output_type": "execute_result"
    }
   ],
   "source": [
    "indeks = pd.MultiIndex.from_product([['ABC', 'DEF', 'KLM'], [2016, 2017]]) \n",
    "sutunlar = pd.MultiIndex.from_product([['Q1', 'Q2', 'Q3', 'Q4'], ['Hacim', 'Kapanış']])\n",
    "\n",
    "veri = np.array([10762, 32.5, 12638, 33.5, 13689, 35.2, 18414, 37.4,\n",
    "                    10688, 12.3, 14348, 13.2, 15924, 15.3, 15243, 17.9,\n",
    "                    14841, 24.7, 14966, 22.1, 13098, 19.3, 17439, 15.4,\n",
    "                    15607, 18.6, 16166, 13.4, 10627, 15.1, 13396, 15.3,\n",
    "                    12565, 20.3, 17469, 21.4, 18964, 22.5, 15187, 23.6,\n",
    "                    13203,  7.2, 10629,  7.2, 15239,  8.2, 18307,  9.1])\n",
    "veri = np.reshape(veri, (6, 8))\n",
    "\n",
    "hisseler = pd.DataFrame(veri, index = indeks, columns = sutunlar)\n",
    "hisseler"
   ]
  },
  {
   "cell_type": "code",
   "execution_count": null,
   "metadata": {},
   "outputs": [],
   "source": []
  }
 ],
 "metadata": {
  "kernelspec": {
   "display_name": "veri-bilimi",
   "language": "python",
   "name": "python3"
  },
  "language_info": {
   "codemirror_mode": {
    "name": "ipython",
    "version": 3
   },
   "file_extension": ".py",
   "mimetype": "text/x-python",
   "name": "python",
   "nbconvert_exporter": "python",
   "pygments_lexer": "ipython3",
   "version": "3.8.16"
  },
  "orig_nbformat": 4
 },
 "nbformat": 4,
 "nbformat_minor": 2
}
