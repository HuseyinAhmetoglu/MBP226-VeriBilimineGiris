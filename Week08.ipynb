{
 "cells": [
  {
   "attachments": {},
   "cell_type": "markdown",
   "metadata": {},
   "source": [
    "# Numpy"
   ]
  },
  {
   "cell_type": "code",
   "execution_count": 8,
   "metadata": {},
   "outputs": [
    {
     "ename": "IndexError",
     "evalue": "list index out of range",
     "output_type": "error",
     "traceback": [
      "\u001b[0;31m---------------------------------------------------------------------------\u001b[0m",
      "\u001b[0;31mIndexError\u001b[0m                                Traceback (most recent call last)",
      "Cell \u001b[0;32mIn[8], line 6\u001b[0m\n\u001b[1;32m      4\u001b[0m ortalama \u001b[39m=\u001b[39m []\n\u001b[1;32m      5\u001b[0m \u001b[39mfor\u001b[39;00m i \u001b[39min\u001b[39;00m \u001b[39mrange\u001b[39m(\u001b[39m8\u001b[39m):\n\u001b[0;32m----> 6\u001b[0m     ortalama\u001b[39m.\u001b[39mappend((sinav_1[i] \u001b[39m+\u001b[39m sinav_2[i]) \u001b[39m/\u001b[39m \u001b[39m2\u001b[39m)\n\u001b[1;32m      8\u001b[0m ortalama\n",
      "\u001b[0;31mIndexError\u001b[0m: list index out of range"
     ]
    }
   ],
   "source": [
    "sinav_1 = [100, 84, 76, 48, 36, 77, 90]\n",
    "sinav_2 = [95, 78, 66, 57, 75, 89, 95]\n",
    "\n",
    "ortalama = []\n",
    "for i in range(10):\n",
    "    ortalama.append((sinav_1[i] + sinav_2[i]) / 2)\n",
    "\n",
    "ortalama"
   ]
  },
  {
   "cell_type": "code",
   "execution_count": 10,
   "metadata": {},
   "outputs": [
    {
     "ename": "TypeError",
     "evalue": "unsupported operand type(s) for /: 'list' and 'int'",
     "output_type": "error",
     "traceback": [
      "\u001b[0;31m---------------------------------------------------------------------------\u001b[0m",
      "\u001b[0;31mTypeError\u001b[0m                                 Traceback (most recent call last)",
      "Cell \u001b[0;32mIn[10], line 4\u001b[0m\n\u001b[1;32m      1\u001b[0m sinav_1 \u001b[39m=\u001b[39m [\u001b[39m100\u001b[39m, \u001b[39m84\u001b[39m, \u001b[39m76\u001b[39m, \u001b[39m48\u001b[39m, \u001b[39m36\u001b[39m, \u001b[39m77\u001b[39m, \u001b[39m90\u001b[39m]\n\u001b[1;32m      2\u001b[0m sinav_2 \u001b[39m=\u001b[39m [\u001b[39m95\u001b[39m, \u001b[39m78\u001b[39m, \u001b[39m66\u001b[39m, \u001b[39m57\u001b[39m, \u001b[39m75\u001b[39m, \u001b[39m89\u001b[39m, \u001b[39m95\u001b[39m]\n\u001b[0;32m----> 4\u001b[0m (sinav_1 \u001b[39m+\u001b[39;49m sinav_2) \u001b[39m/\u001b[39;49m \u001b[39m2\u001b[39;49m\n",
      "\u001b[0;31mTypeError\u001b[0m: unsupported operand type(s) for /: 'list' and 'int'"
     ]
    }
   ],
   "source": [
    "sinav_1 = [100, 84, 76, 48, 36, 77, 90]\n",
    "sinav_2 = [95, 78, 66, 57, 75, 89, 95]\n",
    "\n",
    "(sinav_1 + sinav_2) / 2"
   ]
  },
  {
   "cell_type": "code",
   "execution_count": 13,
   "metadata": {},
   "outputs": [
    {
     "name": "stdout",
     "output_type": "stream",
     "text": [
      "['Adana' '1' 'Adıyaman' '2' 'Afyon' '3']\n"
     ]
    }
   ],
   "source": [
    "import numpy as np\n",
    "\n",
    "liste = [\"Adana\", 1, \"Adıyaman\", 2, \"Afyon\", 3]\n",
    "numpy_dizi = np.array(liste)\n",
    "\n",
    "print(numpy_dizi)\n"
   ]
  },
  {
   "cell_type": "code",
   "execution_count": 15,
   "metadata": {},
   "outputs": [
    {
     "data": {
      "text/plain": [
       "array([97.5, 81. , 71. , 52.5, 55.5, 83. , 92.5])"
      ]
     },
     "execution_count": 15,
     "metadata": {},
     "output_type": "execute_result"
    }
   ],
   "source": [
    "sinav_1 = [100, 84, 76, 48, 36, 77, 90]\n",
    "sinav_2 = [95, 78, 66, 57, 75, 89, 95]\n",
    "sinav_1_np = np.array(sinav_1)\n",
    "sinav_2_np = np.array(sinav_2)\n",
    "\n",
    "ortalama = (sinav_1_np + sinav_2_np) / 2\n",
    "\n",
    "ortalama"
   ]
  }
 ],
 "metadata": {
  "kernelspec": {
   "display_name": "tf-env",
   "language": "python",
   "name": "python3"
  },
  "language_info": {
   "codemirror_mode": {
    "name": "ipython",
    "version": 3
   },
   "file_extension": ".py",
   "mimetype": "text/x-python",
   "name": "python",
   "nbconvert_exporter": "python",
   "pygments_lexer": "ipython3",
   "version": "3.8.15"
  },
  "orig_nbformat": 4
 },
 "nbformat": 4,
 "nbformat_minor": 2
}
