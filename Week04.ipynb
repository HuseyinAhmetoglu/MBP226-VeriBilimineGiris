{
 "cells": [
  {
   "attachments": {},
   "cell_type": "markdown",
   "metadata": {},
   "source": [
    "# Koşullu İfadeler ve Döngüler"
   ]
  },
  {
   "cell_type": "code",
   "execution_count": 1,
   "metadata": {},
   "outputs": [
    {
     "data": {
      "text/plain": [
       "True"
      ]
     },
     "execution_count": 1,
     "metadata": {},
     "output_type": "execute_result"
    }
   ],
   "source": [
    "5==5"
   ]
  },
  {
   "cell_type": "code",
   "execution_count": 2,
   "metadata": {},
   "outputs": [
    {
     "data": {
      "text/plain": [
       "False"
      ]
     },
     "execution_count": 2,
     "metadata": {},
     "output_type": "execute_result"
    }
   ],
   "source": [
    "True & False"
   ]
  },
  {
   "cell_type": "code",
   "execution_count": 3,
   "metadata": {},
   "outputs": [
    {
     "data": {
      "text/plain": [
       "True"
      ]
     },
     "execution_count": 3,
     "metadata": {},
     "output_type": "execute_result"
    }
   ],
   "source": [
    "True | False"
   ]
  },
  {
   "cell_type": "code",
   "execution_count": 4,
   "metadata": {},
   "outputs": [
    {
     "name": "stdout",
     "output_type": "stream",
     "text": [
      "Doğru\n"
     ]
    }
   ],
   "source": [
    "if 5 > 4:\n",
    "    print(\"Doğru\")"
   ]
  },
  {
   "cell_type": "code",
   "execution_count": 5,
   "metadata": {},
   "outputs": [],
   "source": [
    "if 0:\n",
    "    print(\"Doğru\")"
   ]
  },
  {
   "cell_type": "code",
   "execution_count": 6,
   "metadata": {},
   "outputs": [],
   "source": [
    "if []:\n",
    "    print(\"Doğru\")"
   ]
  },
  {
   "cell_type": "code",
   "execution_count": 7,
   "metadata": {},
   "outputs": [],
   "source": [
    "if \"\":\n",
    "    print(\"Doğru\")"
   ]
  },
  {
   "cell_type": "code",
   "execution_count": 8,
   "metadata": {},
   "outputs": [
    {
     "name": "stdout",
     "output_type": "stream",
     "text": [
      "Doğru\n"
     ]
    }
   ],
   "source": [
    "if 5:\n",
    "    print(\"Doğru\")"
   ]
  },
  {
   "cell_type": "code",
   "execution_count": 9,
   "metadata": {},
   "outputs": [
    {
     "name": "stdout",
     "output_type": "stream",
     "text": [
      "yanlış\n"
     ]
    }
   ],
   "source": [
    "if 0:\n",
    "    print(\"Doğru\")\n",
    "else:\n",
    "    print(\"yanlış\")"
   ]
  },
  {
   "cell_type": "code",
   "execution_count": 10,
   "metadata": {},
   "outputs": [
    {
     "name": "stdout",
     "output_type": "stream",
     "text": [
      "0\n",
      "1\n",
      "2\n",
      "3\n",
      "4\n",
      "5\n"
     ]
    }
   ],
   "source": [
    "a=0\n",
    "while a <= 5:\n",
    "    print(a)\n",
    "    #a = a+1\n",
    "    a +=1"
   ]
  },
  {
   "cell_type": "markdown",
   "metadata": {},
   "source": []
  },
  {
   "cell_type": "code",
   "execution_count": 11,
   "metadata": {},
   "outputs": [
    {
     "name": "stdout",
     "output_type": "stream",
     "text": [
      "1\n",
      "2\n",
      "3\n",
      "4\n",
      "5\n"
     ]
    }
   ],
   "source": [
    "for i in range(1,6):\n",
    "    print(i)"
   ]
  },
  {
   "cell_type": "code",
   "execution_count": 12,
   "metadata": {},
   "outputs": [
    {
     "name": "stdout",
     "output_type": "stream",
     "text": [
      "ali\n",
      "hasan\n",
      "cem\n",
      "hüseyin\n"
     ]
    }
   ],
   "source": [
    "liste = [\"ali\",\"hasan\", \"cem\", \"hüseyin\"]\n",
    "\n",
    "for isim in liste:\n",
    "    print(isim)"
   ]
  },
  {
   "cell_type": "code",
   "execution_count": 13,
   "metadata": {},
   "outputs": [
    {
     "name": "stdout",
     "output_type": "stream",
     "text": [
      "0:ali\n",
      "1:hasan\n",
      "2:cem\n",
      "3:hüseyin\n"
     ]
    }
   ],
   "source": [
    "liste = [\"ali\",\"hasan\", \"cem\", \"hüseyin\"]\n",
    "\n",
    "for sira, isim in enumerate(liste):\n",
    "    print(str(sira)+\":\"+isim)"
   ]
  },
  {
   "cell_type": "code",
   "execution_count": 14,
   "metadata": {},
   "outputs": [
    {
     "name": "stdout",
     "output_type": "stream",
     "text": [
      "0 Türkiye Ankara\n",
      "1 İtalye Roma\n",
      "2 İngiltere Londra\n",
      "3 Fransa Paris\n",
      "4 İspanya Madrid\n"
     ]
    }
   ],
   "source": [
    "ulkeler = [\"Türkiye\", \"İtalye\", \"İngiltere\", \"Fransa\", \"İspanya\"]\n",
    "baskentler = [\"Ankara\", \"Roma\", \"Londra\", \"Paris\", \"Madrid\"]\n",
    "\n",
    "ulke_baskent = zip(ulkeler, baskentler)\n",
    "\n",
    "for sira, veri in enumerate(ulke_baskent):\n",
    "    ulke, baskent = veri;\n",
    "    print(sira, ulke, baskent)"
   ]
  },
  {
   "cell_type": "code",
   "execution_count": 15,
   "metadata": {},
   "outputs": [
    {
     "name": "stdout",
     "output_type": "stream",
     "text": [
      "Ali-100\n",
      "Veli-90\n",
      "Ayşe-100\n"
     ]
    }
   ],
   "source": [
    "notlar = [[\"Ali\", 100], [\"Veli\", 90], [\"Ayşe\", 100]]\n",
    "\n",
    "for i in notlar:\n",
    "    print(str(i[0]) +\"-\"+str(i[1]))"
   ]
  },
  {
   "cell_type": "code",
   "execution_count": 16,
   "metadata": {},
   "outputs": [
    {
     "name": "stdout",
     "output_type": "stream",
     "text": [
      "Sınıf: 1\n",
      "1-İlhan\n",
      "2-Ali\n",
      "------------------\n",
      "Sınıf: 2\n",
      "1-Yağız\n",
      "2-Baran\n",
      "3-Tuğçe\n",
      "4-Mehmet\n",
      "------------------\n",
      "Sınıf: 3\n",
      "1-Selin\n",
      "2-Umut\n",
      "3-Lara\n",
      "4-Ayten\n",
      "5-Murat\n",
      "------------------\n"
     ]
    }
   ],
   "source": [
    "siniflar = [[\"İlhan\", \"Ali\"],\n",
    "            [\"Yağız\", \"Baran\", \"Tuğçe\", \"Mehmet\"],\n",
    "            [\"Selin\", \"Umut\", \"Lara\", \"Ayten\", \"Murat\"]]\n",
    "\n",
    "for i, sinif in enumerate(siniflar):\n",
    "    print(\"Sınıf: \"+ str(i+1))\n",
    "    for sira, kisi in enumerate(sinif):\n",
    "        print(str(sira+1)+\"-\"+ kisi)\n",
    "    print(\"------------------\")"
   ]
  },
  {
   "cell_type": "code",
   "execution_count": 17,
   "metadata": {},
   "outputs": [
    {
     "name": "stdout",
     "output_type": "stream",
     "text": [
      "İlhan 75\n",
      "Ali 98\n",
      "Mehmet 83\n",
      "Yağız 99\n",
      "Baran 68\n",
      "Özlem 89\n",
      "Ayten 74\n"
     ]
    }
   ],
   "source": [
    "not_listesi = {\"İlhan\": 75, \"Ali\": 98, \"Mehmet\": 83, \"Yağız\": 99, \"Baran\": 68, \"Özlem\": 89, \"Ayten\": 74}\n",
    "\n",
    "for ogrenci in not_listesi:\n",
    "    print(ogrenci, not_listesi[ogrenci])"
   ]
  },
  {
   "cell_type": "code",
   "execution_count": 18,
   "metadata": {},
   "outputs": [
    {
     "name": "stdout",
     "output_type": "stream",
     "text": [
      "İlhan : 75\n",
      "Ali : 98\n",
      "Mehmet : 83\n",
      "Yağız : 99\n",
      "Baran : 68\n",
      "Özlem : 89\n",
      "Ayten : 74\n"
     ]
    }
   ],
   "source": [
    "not_listesi = {\"İlhan\": 75, \"Ali\": 98, \"Mehmet\": 83, \"Yağız\": 99, \"Baran\": 68, \"Özlem\": 89, \"Ayten\": 74}\n",
    "\n",
    "for isim, puan in not_listesi.items():\n",
    "    print(isim +\" : \"+ str(puan))"
   ]
  },
  {
   "cell_type": "code",
   "execution_count": 19,
   "metadata": {},
   "outputs": [
    {
     "data": {
      "text/plain": [
       "{'A': [('Ali', '0001'), ('Can', '0002'), ('Eren', '0003')],\n",
       " 'B': [('Ayşe', '0004'), ('İlhan', '0005'), ('Baran', '0006')],\n",
       " 'C': [('Mehmet', '0007'), ('Yağız', '0008'), ('Özlem', '0009')]}"
      ]
     },
     "execution_count": 19,
     "metadata": {},
     "output_type": "execute_result"
    }
   ],
   "source": [
    "ogrenciler = [\n",
    "    (\"A\", \"Ali\", \"0001\"), \n",
    "    (\"A\", \"Can\", \"0002\"),\n",
    "    (\"A\", \"Eren\", \"0003\"), \n",
    "    (\"B\", \"Ayşe\", \"0004\"), \n",
    "    (\"B\", \"İlhan\", \"0005\"), \n",
    "    (\"B\", \"Baran\", \"0006\"), \n",
    "    (\"C\", \"Mehmet\", \"0007\"), \n",
    "    (\"C\", \"Yağız\", \"0008\"), \n",
    "    (\"C\", \"Özlem\", \"0009\")]\n",
    "\n",
    "siniflar = {}\n",
    "\n",
    "for sinif, ogrenci, numara in ogrenciler:\n",
    "    if sinif not in siniflar:\n",
    "        siniflar[sinif] = []\n",
    "    siniflar[sinif].append((ogrenci, numara))\n",
    "    \n",
    "siniflar"
   ]
  },
  {
   "cell_type": "code",
   "execution_count": 20,
   "metadata": {},
   "outputs": [
    {
     "data": {
      "text/plain": [
       "'İ'"
      ]
     },
     "execution_count": 20,
     "metadata": {},
     "output_type": "execute_result"
    }
   ],
   "source": [
    "sehir = \"İzmir\"\n",
    "yine = iter(sehir)\n",
    "next(yine)"
   ]
  },
  {
   "cell_type": "code",
   "execution_count": 21,
   "metadata": {},
   "outputs": [
    {
     "data": {
      "text/plain": [
       "'z'"
      ]
     },
     "execution_count": 21,
     "metadata": {},
     "output_type": "execute_result"
    }
   ],
   "source": [
    "next(yine)"
   ]
  },
  {
   "cell_type": "code",
   "execution_count": 22,
   "metadata": {},
   "outputs": [
    {
     "data": {
      "text/plain": [
       "'m'"
      ]
     },
     "execution_count": 22,
     "metadata": {},
     "output_type": "execute_result"
    }
   ],
   "source": [
    "next(yine)"
   ]
  },
  {
   "cell_type": "code",
   "execution_count": 23,
   "metadata": {},
   "outputs": [
    {
     "data": {
      "text/plain": [
       "'i'"
      ]
     },
     "execution_count": 23,
     "metadata": {},
     "output_type": "execute_result"
    }
   ],
   "source": [
    "next(yine)"
   ]
  },
  {
   "cell_type": "code",
   "execution_count": 24,
   "metadata": {},
   "outputs": [
    {
     "data": {
      "text/plain": [
       "'r'"
      ]
     },
     "execution_count": 24,
     "metadata": {},
     "output_type": "execute_result"
    }
   ],
   "source": [
    "next(yine)"
   ]
  },
  {
   "cell_type": "code",
   "execution_count": 25,
   "metadata": {},
   "outputs": [
    {
     "ename": "StopIteration",
     "evalue": "",
     "output_type": "error",
     "traceback": [
      "\u001b[0;31m---------------------------------------------------------------------------\u001b[0m",
      "\u001b[0;31mStopIteration\u001b[0m                             Traceback (most recent call last)",
      "Cell \u001b[0;32mIn[25], line 1\u001b[0m\n\u001b[0;32m----> 1\u001b[0m \u001b[39mnext\u001b[39;49m(yine)\n",
      "\u001b[0;31mStopIteration\u001b[0m: "
     ]
    }
   ],
   "source": [
    "next(yine)"
   ]
  },
  {
   "cell_type": "code",
   "execution_count": 27,
   "metadata": {},
   "outputs": [
    {
     "name": "stdout",
     "output_type": "stream",
     "text": [
      "M a r d i n\n"
     ]
    }
   ],
   "source": [
    "sehir = \"Mardin\"\n",
    "yine = iter(sehir)\n",
    "\n",
    "print(*yine)"
   ]
  },
  {
   "cell_type": "code",
   "execution_count": 28,
   "metadata": {},
   "outputs": [
    {
     "data": {
      "text/plain": [
       "range(0, 10)"
      ]
     },
     "execution_count": 28,
     "metadata": {},
     "output_type": "execute_result"
    }
   ],
   "source": [
    "range(10)"
   ]
  },
  {
   "cell_type": "code",
   "execution_count": 29,
   "metadata": {},
   "outputs": [
    {
     "name": "stdout",
     "output_type": "stream",
     "text": [
      "5\n",
      "6\n",
      "7\n",
      "8\n",
      "9\n"
     ]
    }
   ],
   "source": [
    "for i in range(5,10):\n",
    "    print(i)"
   ]
  },
  {
   "cell_type": "code",
   "execution_count": 30,
   "metadata": {},
   "outputs": [
    {
     "data": {
      "text/plain": [
       "{10, 11, 12, 13, 14, 15, 16, 17, 18, 19}"
      ]
     },
     "execution_count": 30,
     "metadata": {},
     "output_type": "execute_result"
    }
   ],
   "source": [
    "sayilar = range(10 ,20)\n",
    "\n",
    "sayi_liste = set(sayilar)\n",
    "\n",
    "sayi_liste"
   ]
  },
  {
   "cell_type": "code",
   "execution_count": 31,
   "metadata": {},
   "outputs": [
    {
     "data": {
      "text/plain": [
       "<enumerate at 0x11d26d740>"
      ]
     },
     "execution_count": 31,
     "metadata": {},
     "output_type": "execute_result"
    }
   ],
   "source": [
    "liste = [\"A\",\"B\",\"C\",\"D\"]\n",
    "\n",
    "enum = enumerate(liste)\n",
    "enum"
   ]
  },
  {
   "cell_type": "code",
   "execution_count": 32,
   "metadata": {},
   "outputs": [
    {
     "data": {
      "text/plain": [
       "[(0, 'A'), (1, 'B'), (2, 'C'), (3, 'D')]"
      ]
     },
     "execution_count": 32,
     "metadata": {},
     "output_type": "execute_result"
    }
   ],
   "source": [
    "a = list(enum)\n",
    "a"
   ]
  },
  {
   "cell_type": "code",
   "execution_count": 34,
   "metadata": {},
   "outputs": [
    {
     "data": {
      "text/plain": [
       "[(3, 'A'), (4, 'B'), (5, 'C'), (6, 'D')]"
      ]
     },
     "execution_count": 34,
     "metadata": {},
     "output_type": "execute_result"
    }
   ],
   "source": [
    "liste = [\"A\",\"B\",\"C\",\"D\"]\n",
    "enum = enumerate(liste , start=3)\n",
    "list(enum)"
   ]
  },
  {
   "cell_type": "code",
   "execution_count": 35,
   "metadata": {},
   "outputs": [
    {
     "data": {
      "text/plain": [
       "<zip at 0x11d2b1740>"
      ]
     },
     "execution_count": 35,
     "metadata": {},
     "output_type": "execute_result"
    }
   ],
   "source": [
    "ulkeler = [\"Türkiye\", \"Japonya\", \"Amerika\", \"İspanya\", \"İtalya\"] \n",
    "baskentler = [\"Ankara\", \"Tokyo\", \"New York\", \"Madrid\", \"Roma\"] \n",
    "ulke_baskent = zip(ulkeler, baskentler)\n",
    "ulke_baskent"
   ]
  },
  {
   "cell_type": "code",
   "execution_count": 36,
   "metadata": {},
   "outputs": [],
   "source": [
    "ulke, baskent = zip(*ulke_baskent)"
   ]
  },
  {
   "cell_type": "code",
   "execution_count": 37,
   "metadata": {},
   "outputs": [
    {
     "data": {
      "text/plain": [
       "('Türkiye', 'Japonya', 'Amerika', 'İspanya', 'İtalya')"
      ]
     },
     "execution_count": 37,
     "metadata": {},
     "output_type": "execute_result"
    }
   ],
   "source": [
    "ulke"
   ]
  },
  {
   "cell_type": "code",
   "execution_count": 38,
   "metadata": {},
   "outputs": [
    {
     "data": {
      "text/plain": [
       "('Ankara', 'Tokyo', 'New York', 'Madrid', 'Roma')"
      ]
     },
     "execution_count": 38,
     "metadata": {},
     "output_type": "execute_result"
    }
   ],
   "source": [
    "baskent"
   ]
  },
  {
   "cell_type": "code",
   "execution_count": 39,
   "metadata": {},
   "outputs": [
    {
     "data": {
      "text/plain": [
       "[0,\n",
       " 25,\n",
       " 100,\n",
       " 225,\n",
       " 400,\n",
       " 625,\n",
       " 900,\n",
       " 1225,\n",
       " 1600,\n",
       " 2025,\n",
       " 2500,\n",
       " 3025,\n",
       " 3600,\n",
       " 4225,\n",
       " 4900,\n",
       " 5625,\n",
       " 6400,\n",
       " 7225,\n",
       " 8100,\n",
       " 9025]"
      ]
     },
     "execution_count": 39,
     "metadata": {},
     "output_type": "execute_result"
    }
   ],
   "source": [
    "kareler = []\n",
    "\n",
    "for i in range(0, 100, 5):\n",
    "    kareler.append(i**2)\n",
    "kareler"
   ]
  },
  {
   "cell_type": "code",
   "execution_count": 40,
   "metadata": {},
   "outputs": [
    {
     "data": {
      "text/plain": [
       "[0,\n",
       " 25,\n",
       " 100,\n",
       " 225,\n",
       " 400,\n",
       " 625,\n",
       " 900,\n",
       " 1225,\n",
       " 1600,\n",
       " 2025,\n",
       " 2500,\n",
       " 3025,\n",
       " 3600,\n",
       " 4225,\n",
       " 4900,\n",
       " 5625,\n",
       " 6400,\n",
       " 7225,\n",
       " 8100,\n",
       " 9025]"
      ]
     },
     "execution_count": 40,
     "metadata": {},
     "output_type": "execute_result"
    }
   ],
   "source": [
    "kareler = [i**2 for i in range(0, 100, 5)]\n",
    "kareler"
   ]
  },
  {
   "cell_type": "code",
   "execution_count": 41,
   "metadata": {},
   "outputs": [
    {
     "data": {
      "text/plain": [
       "[20, 50, 60, 70, 90]"
      ]
     },
     "execution_count": 41,
     "metadata": {},
     "output_type": "execute_result"
    }
   ],
   "source": [
    "liste1 = [2,5,6,7,9]\n",
    "liste2 = [i*10  for i in liste1]\n",
    "liste2"
   ]
  },
  {
   "cell_type": "code",
   "execution_count": 42,
   "metadata": {},
   "outputs": [
    {
     "data": {
      "text/plain": [
       "['Oca',\n",
       " 'Şub',\n",
       " 'Mar',\n",
       " 'Nis',\n",
       " 'May',\n",
       " 'Haz',\n",
       " 'Tem',\n",
       " 'Ağu',\n",
       " 'Eyl',\n",
       " 'Eki',\n",
       " 'Kas',\n",
       " 'Ara']"
      ]
     },
     "execution_count": 42,
     "metadata": {},
     "output_type": "execute_result"
    }
   ],
   "source": [
    "aylar = [\"Ocak\", \"Şubat\", \"Mart\", \"Nisan\", \"Mayıs\", \"Haziran\", \"Temmuz\", \"Ağustos\", \"Eylül\", \"Ekim\", \"Kasım\", \"Aralık\"]\n",
    "kisa_aylar = [ay[0:3] for ay in aylar]\n",
    "kisa_aylar"
   ]
  },
  {
   "cell_type": "code",
   "execution_count": 46,
   "metadata": {},
   "outputs": [
    {
     "data": {
      "text/plain": [
       "['Mar', 'May']"
      ]
     },
     "execution_count": 46,
     "metadata": {},
     "output_type": "execute_result"
    }
   ],
   "source": [
    "aylar = [\"Ocak\", \"Şubat\", \"Mart\", \"Nisan\", \"Mayıs\", \"Haziran\", \"Temmuz\", \"Ağustos\", \"Eylül\", \"Ekim\", \"Kasım\", \"Aralık\"]\n",
    "M_ile_baslayanlar = [ay[0:3] for ay in aylar if ay[0:1] == 'M']\n",
    "M_ile_baslayanlar"
   ]
  },
  {
   "cell_type": "code",
   "execution_count": 47,
   "metadata": {},
   "outputs": [
    {
     "data": {
      "text/plain": [
       "[1, 27, 125, 343, 729]"
      ]
     },
     "execution_count": 47,
     "metadata": {},
     "output_type": "execute_result"
    }
   ],
   "source": [
    "kup_tek = [i**3 for i in range(11) if i % 2 == 1]\n",
    "kup_tek"
   ]
  },
  {
   "cell_type": "code",
   "execution_count": 48,
   "metadata": {},
   "outputs": [
    {
     "data": {
      "text/plain": [
       "[0, 1, 8, 9, 64, 25, 216, 49, 512, 81, 1000]"
      ]
     },
     "execution_count": 48,
     "metadata": {},
     "output_type": "execute_result"
    }
   ],
   "source": [
    "sayilar = [i**3 if i % 2 == 0 else i**2 for i in range(11)]\n",
    "sayilar"
   ]
  },
  {
   "cell_type": "code",
   "execution_count": 49,
   "metadata": {},
   "outputs": [
    {
     "data": {
      "text/plain": [
       "{'İstanbul': 8, 'Ankara': 6, 'İzmir': 5, 'Eskişehir': 9, 'Bursa': 5}"
      ]
     },
     "execution_count": 49,
     "metadata": {},
     "output_type": "execute_result"
    }
   ],
   "source": [
    "sehirler = [\"İstanbul\", \"Ankara\", \"İzmir\", \"Eskişehir\", \"Bursa\"]\n",
    "sehir_sozluk = {sehir:len(sehir) for sehir in sehirler}\n",
    "sehir_sozluk"
   ]
  },
  {
   "cell_type": "code",
   "execution_count": null,
   "metadata": {},
   "outputs": [],
   "source": []
  }
 ],
 "metadata": {
  "kernelspec": {
   "display_name": "veri-bilimi",
   "language": "python",
   "name": "python3"
  },
  "language_info": {
   "codemirror_mode": {
    "name": "ipython",
    "version": 3
   },
   "file_extension": ".py",
   "mimetype": "text/x-python",
   "name": "python",
   "nbconvert_exporter": "python",
   "pygments_lexer": "ipython3",
   "version": "3.8.16"
  },
  "orig_nbformat": 4
 },
 "nbformat": 4,
 "nbformat_minor": 2
}
